{
 "cells": [
  {
   "cell_type": "code",
   "execution_count": 157,
   "metadata": {},
   "outputs": [],
   "source": [
    "import numpy as np\n",
    "import matplotlib.pyplot as plt\n",
    "import random\n",
    "from sympy import symbols, sympify, lambdify, compose, I, pi\n",
    "from sympy.abc import x"
   ]
  },
  {
   "cell_type": "code",
   "execution_count": 159,
   "metadata": {},
   "outputs": [],
   "source": [
    "# Extracción de datos\n",
    "\n",
    "columna1 = []\n",
    "columna2 = []\n",
    "columna3 = []\n",
    "\n",
    "with open('c:/Users/ximen/Desktop/Practicas DFI/hub_data_3.txt', 'r') as archivo:\n",
    "    # Lee cada línea del archivo\n",
    "    for linea in archivo: #cada linea es una fila del texto\n",
    "        elementos = linea.split() # divide la línea en sus elementos utilizando espacios como delimitadores\n",
    "        #print(elementos)\n",
    "        columna1.append(elementos[0]) # Agrega cada elemento a su respectiva columna\n",
    "        columna2.append(elementos[1])\n",
    "        columna3.append(elementos[2])\n",
    "\n",
    "z = np.zeros(len(columna1))\n",
    "for i in range(len(columna1)):\n",
    "  z[i] = float(columna1[i])\n",
    "\n",
    "H = np.zeros(len(columna2))\n",
    "for i in range(len(columna2)):\n",
    "  H[i] = float(columna2[i])\n",
    "\n",
    "desv = np.zeros(len(columna3))\n",
    "for i in range(len(columna3)):\n",
    "  desv[i] = float(columna3[i])"
   ]
  },
  {
   "cell_type": "code",
   "execution_count": 160,
   "metadata": {},
   "outputs": [],
   "source": [
    "# POBLACION BASE\n",
    "\n",
    "x = symbols('x')\n",
    "\n",
    "poblacion_base = ['exp(x)', 'log(x)', 'x', 'x**2']\n",
    "\n",
    "operaciones = ['*', '**', '/', '+', '-', 'comp'] # Agregar 'comp' como una nueva operación tal que exp(x) comp log(x) comp x = exp(log(x))"
   ]
  },
  {
   "cell_type": "code",
   "execution_count": 163,
   "metadata": {},
   "outputs": [],
   "source": [
    "def Creador(num_poblacion_inicial, poblacion_base, operaciones):\n",
    "    '''\n",
    "    Creador recibe: \n",
    "    1. El numero de individuos que se desea que tenga la poblacion inicial\n",
    "    2. Una lista con funciones base cuyas combinaciones crearan la poblacion inicial\n",
    "    3. una lista con operaciones que actuarán sobre las funciones al momento de combinarlas\n",
    "    '''\n",
    "    poblacion_inicial= []\n",
    "    for n in range(num_poblacion_inicial):\n",
    "        expresion1 = random.choice(poblacion_base)\n",
    "        expresion2 = random.choice(poblacion_base)\n",
    "        operacion = random.choice(operaciones)\n",
    "        if operacion == 'comp':\n",
    "            # Se pasan a funciones sympy\n",
    "            x = symbols('x')\n",
    "            expresiones = [expresion1, expresion2]\n",
    "            expresiones_sympy = [sympify(exp) for exp in expresiones] \n",
    "            f1 = expresiones_sympy[0]\n",
    "            f2 = expresiones_sympy[1]\n",
    "            # Se componen expresiones\n",
    "            composicion = f1.subs(x, f2)\n",
    "            poblacion_inicial.append(str(composicion))\n",
    "        else: \n",
    "            expresion = f\"{expresion1} {operacion} {expresion2}\"\n",
    "            poblacion_inicial.append(expresion)\n",
    "    return poblacion_inicial"
   ]
  },
  {
   "cell_type": "code",
   "execution_count": 164,
   "metadata": {},
   "outputs": [
    {
     "name": "stdout",
     "output_type": "stream",
     "text": [
      "['x**2 * exp(x)', 'log(x) ** x', 'x', 'x**2 + log(x)', 'log(log(x))', 'x**2 - log(x)', 'exp(x) - exp(x)', 'x**2 - x**2', 'x ** exp(x)', 'exp(x) + exp(x)']\n"
     ]
    }
   ],
   "source": [
    "# Comprobacion de que creador esta bien\n",
    "\n",
    "poblacion_inicial = Creador(10, poblacion_base, operaciones)\n",
    "\n",
    "print(poblacion_inicial)"
   ]
  },
  {
   "cell_type": "code",
   "execution_count": 165,
   "metadata": {},
   "outputs": [],
   "source": [
    "def seleccionador():\n",
    "    pass"
   ]
  },
  {
   "cell_type": "code",
   "execution_count": 169,
   "metadata": {},
   "outputs": [
    {
     "name": "stdout",
     "output_type": "stream",
     "text": [
      "[4, 9, 16, 25, 36]\n",
      "75\n"
     ]
    },
    {
     "data": {
      "text/plain": [
       "(5, pi)"
      ]
     },
     "execution_count": 169,
     "metadata": {},
     "output_type": "execute_result"
    }
   ],
   "source": [
    "from sympy import symbols\n",
    "\n",
    "# Definir la variable simbólica\n",
    "x = symbols('x')\n",
    "\n",
    "# Definir la función simbólica\n",
    "f_x = x**2 + 2*x + 1\n",
    "\n",
    "# Lista de valores para x\n",
    "valores_x = [1, 2, 3, 4, 5]\n",
    "\n",
    "# Evaluar la función en cada valor de x\n",
    "resultados = [f_x.subs(x, valor) for valor in valores_x]\n",
    "\n",
    "print(resultados)\n",
    "\n",
    "diferencia = [ola - a for ola, a in zip(resultados, valores_x)]\n",
    "\n",
    "print(np.sum(diferencia))\n",
    "\n",
    "expresion = 5 + I*pi\n",
    "\n",
    "expresion.as_real_imag()"
   ]
  },
  {
   "cell_type": "code",
   "execution_count": 170,
   "metadata": {},
   "outputs": [
    {
     "name": "stdout",
     "output_type": "stream",
     "text": [
      "[0.00525529008814566, 0.00886281169801220, 0.0162359546627430, 0.0342553102031586, 0.0383217006638832, 0.0483204260316009, 0.0488561103264068, 0.0954964084584537, 0.103733377287255, 0.173835774702674, 0.176180153722827, 0.211418499935178, 0.238691951622603, 0.239265261183605, 0.275809606363239, 0.300604117503795, 0.308965138252793, 0.369082804900556, 0.353438717281715, 0.372343542265243, 0.574509965010821, 0.636276691978161, 0.655962768140583, 0.912721063383359, 1.10581045582954, 1.19081250934463, 1.33194428306841, 1.42434619423518, 1.83663889694356, 1.86700073264949, 1.99227852003713, 3.03333859204615, 6.20111136827652, 7.25997442010361, 8.54502197756385, 10.8106901233216, 17.6234706952675, 27.5495028659345, 56.8434989228945]\n",
      "[1.04507157100284 + 0.233601172642064*I, 1.03932715332569 + 0.301952450971842*I, 1.01752558947874 + 0.402866880543045*I, 0.948658805782003 + 0.561035253780067*I, 0.932288441710176 + 0.587547948629549*I, 0.89195423553952 + 0.643771106246951*I, 0.889800181675179 + 0.646477673413914*I, 0.711229684316386 + 0.80673172103815*I, 0.681988542489155 + 0.824382533227889*I, 0.461782283761964 + 0.90629876136739*I, 0.455250146733954 + 0.907530489321532*I, 0.362889138721068 + 0.918238549838696*I, 0.298397844460683 + 0.918374133425226*I, 0.297103289881212 + 0.918314868581331*I, 0.219426175023748 + 0.910195832861576*I, 0.171803791510052 + 0.900627015026987*I, 0.15660383671969 + 0.896800479629482*I, 0.058888237728847 + 0.862472837931093*I, 0.0824649049397748 + 0.872387569999055*I, 0.0541276821908322 + 0.860334871876672*I, -0.157088298995757 + 0.702772651185307*I, -0.196016034999265 + 0.651702118290068*I, -0.206512321335913 + 0.635579571599385*I, -0.28031442881765 + 0.441704861327747*I, -0.284368679722835 + 0.322552952247277*I, -0.27775993457357 + 0.27775993457357*I, -0.259327635501346 + 0.213165763893189*I, -0.243682935125569 + 0.177046015717897*I, -0.158672184907448 + 0.0657241709600365*I, -0.152133722760378 + 0.0602340019235012*I, -0.125492110804365 + 0.0407748585221804*I, 0.0321380211914929, 0.175620854409565, 0.202362584874730, 0.229872867198673, 0.270304654957231, 0.362082409878836, 0.462598289366194, 0.683944276192568]\n",
      "[0.0700000000000000, 0.0900000000000000, 0.120000000000000, 0.170000000000000, 0.179000000000000, 0.199000000000000, 0.200000000000000, 0.270000000000000, 0.280000000000000, 0.350000000000000, 0.352000000000000, 0.380200000000000, 0.400000000000000, 0.400400000000000, 0.424700000000000, 0.440000000000000, 0.444970000000000, 0.478300000000000, 0.470000000000000, 0.480000000000000, 0.570000000000000, 0.593000000000000, 0.600000000000000, 0.680000000000000, 0.730000000000000, 0.750000000000000, 0.781000000000000, 0.800000000000000, 0.875000000000000, 0.880000000000000, 0.900000000000000, 1.03700000000000, 1.30000000000000, 1.36300000000000, 1.43000000000000, 1.53000000000000, 1.75000000000000, 1.96500000000000, 2.34000000000000]\n",
      "[-2.65436003693278, -2.39984560865187, -2.10586353620009, -1.74305684193188, -1.68832847314138, -1.57484945425764, -1.56943791243410, -1.23643331998376, -1.19456567581289, -0.927322124498678, -0.920220103384040, -0.822505808927808, -0.756290731874155, -0.754971071541072, -0.676002151662911, -0.627380552069830, -0.611750113918776, -0.508746238295886, -0.534122584278033, -0.503569175080200, -0.237218918153541, -0.170911879984412, -0.150825623765991, 0.0767375191880155, 0.218189255160300, 0.274817927548219, 0.362780870857549, 0.416856448685790, 0.632093607375477, 0.646566628490115, 0.704639484342174, 1.11170092924739, 1.95236426446749, 2.16745715271440, 2.40257444427182, 2.76616773540434, 3.62211578793542, 4.53671724532123, 6.32575092936961]\n",
      "[0.978047902489709 + I*pi, 0.878773939422311 + I*pi, 0.751540390486477 + I*pi, 0.572084496317368 + I*pi, 0.542539077722924 + I*pi, 0.478994622766146 + I*pi, 0.475884995327111 + I*pi, 0.269518091628409 + I*pi, 0.241349355985429 + I*pi, 0.0486207445793893 + I*pi, 0.0431783553688334 + I*pi, -0.0334969622284016 + I*pi, -0.0874215717907552 + I*pi, -0.0885129785115706 + I*pi, -0.155050135609628 + I*pi, -0.197255857910361 + I*pi, -0.211031678550674 + I*pi, -0.304465966229873 + I*pi, -0.281007617229459 + I*pi, -0.309288247053012 + I*pi, -0.576041853334201 + I*pi, -0.649013785214139 + I*pi, -0.671726992092122 + I*pi, -0.952792694071258 + I*pi, -1.15610133237516 + I*pi, -1.24589932370724 + I*pi, -1.3976379403575 + I*pi, -1.49993998675952 + I*pi, -2.01341867803995 + I*pi, -2.05702764819981 + I*pi, -2.25036732731245 + I*pi, -3.31505833073507, -1.33802141842932, -1.17218944680509, -1.02813207985481, -0.855036342745509, -0.580504823694894, -0.392313601557142, -0.162341381296143]\n",
      "[2.66416003693278, 2.41604560865187, 2.13466353620009, 1.80085684193188, 1.75241047314138, 1.65405145425764, 1.64943791243410, 1.38223331998376, 1.35136567581289, 1.17232212449868, 1.16802810338404, 1.11160988892781, 1.07629073187416, 1.07561139154107, 1.03674233166291, 1.01458055206983, 1.00774671571878, 0.966288018295886, 0.975922584278033, 0.964369175080200, 0.887018918153541, 0.874209879984412, 0.870825623765991, 0.848062480811985, 0.847610744839700, 0.850182072451781, 0.857141129142451, 0.863143551314210, 0.899156392624523, 0.902233371509885, 0.915360515657826, 1.03903707075261, 1.42763573553251, 1.54808084728560, 1.68722555572818, 1.91563226459566, 2.50288421206458, 3.18573275467878, 4.62544907063039]\n",
      "[0, 0, 0, 0, 0, 0, 0, 0, 0, 0, 0, 0, 0, 0, 0, 0, 0, 0, 0, 0, 0, 0, 0, 0, 0, 0, 0, 0, 0, 0, 0, 0, 0, 0, 0, 0, 0, 0, 0]\n",
      "[0, 0, 0, 0, 0, 0, 0, 0, 0, 0, 0, 0, 0, 0, 0, 0, 0, 0, 0, 0, 0, 0, 0, 0, 0, 0, 0, 0, 0, 0, 0, 0, 0, 0, 0, 0, 0, 0, 0]\n",
      "[0.0577242367679118, 0.0717396158570193, 0.0915755960391736, 0.122418590034184, 0.127760536282045, 0.139467548904280, 0.140047741283616, 0.179931311564650, 0.185574504557764, 0.225424833394049, 0.226581865466878, 0.243072229122631, 0.254884406605076, 0.255125332231102, 0.269953416643257, 0.279502950677716, 0.282644160796891, 0.304264444289328, 0.298784784036479, 0.305395141232108, 0.370102101297399, 0.388475139768889, 0.394244117973352, 0.467081936864780, 0.520455877671311, 0.543882008299678, 0.582890412148887, 0.608587180061433, 0.725912961753714, 0.734773171323513, 0.771711076608683, 1.10791846907535, 2.61873747356570, 3.35425656641149, 4.45761518549501, 7.12750753456668, 25.0372949386147, 123.912804123504, 6806.39514572036]\n",
      "[2.14501636250843, 2.18834856741042, 2.25499370315875, 2.37060970264073, 2.39204148833577, 2.44036393179974, 2.44280551632034, 2.61992890146649, 2.64625962467487, 2.83813509718651, 2.84381704743715, 2.92515415119951, 2.98364939528254, 2.98484309376443, 3.05826322272433, 3.10541443702267, 3.12088676365801, 3.22665881922789, 3.19998838643472, 3.23214880438579, 3.53653410286747, 3.61881701343192, 3.64423760078102, 3.94775546446090, 4.15016121534824, 4.23400003322535, 4.36730965772700, 4.45108185698494, 4.79775058793420, 4.82179941283442, 4.91920622231390, 5.64148416412627, 7.33859333523849, 7.81579886423297, 8.35739838384649, 9.23635364459956, 11.5092053520115, 14.2698251803169, 20.7624731254637]\n"
     ]
    }
   ],
   "source": [
    "# SELECCION: calcula por cada elemento de la poblacion inicial su chi respectivo, y elige al 20% con menor chi\n",
    "\n",
    "valores_x = z.tolist()\n",
    "Chi = np.zeros(len(poblacion_inicial))\n",
    "\n",
    "x = symbols('x')\n",
    "expresiones_sympy = [sympify(exp) for exp in poblacion_inicial] \n",
    "\n",
    "for n , funcion in enumerate(expresiones_sympy):\n",
    "    f = [funcion.subs(x, valor) for valor in valores_x]\n",
    "    print(f)\n",
    "    diferencia = [resultado - valor for resultado, valor in zip(z, f)]\n",
    "    chi = np.sum(((z - f)/desv)**2)\n",
    "    chi_real, chi_imaginario = expresion = chi.as_real_imag()\n",
    "    Chi[n] = chi_real\n",
    "\n",
    "\n"
   ]
  },
  {
   "cell_type": "markdown",
   "metadata": {},
   "source": [
    "### Borradores IMPORTANTES NO BORRAR (ni ver)"
   ]
  },
  {
   "cell_type": "code",
   "execution_count": null,
   "metadata": {},
   "outputs": [],
   "source": [
    "for i, funcion in enumerate(poblacion_inicial):\n",
    "    valores_y[i, :] = [funcion(valor) for valor in valores_x]\n",
    "#print(valores_y)\n",
    "    #print(f\"Resultado para la función {funcion}: {valores_y}\")\n",
    "\n",
    "    # CALCULO DE CHI\n",
    "    Chi[i] = np.sum(((H - [funcion(valor) for valor in valores_x])/desv)**2)"
   ]
  },
  {
   "cell_type": "code",
   "execution_count": null,
   "metadata": {},
   "outputs": [],
   "source": [
    "\n",
    "# COMBINACION: lo haré para dos pares de funciones\n",
    "\n",
    "# Número de combinaciones deseadas\n",
    "num_combinaciones = 1\n",
    "\n",
    "num_poblacion_inicial = 10\n",
    "\n",
    "# Crear las expresiones combinadas para la poblacion inicial\n",
    "poblacion_inicial= []\n",
    "for n in range(num_poblacion_inicial):\n",
    "    expresion1 = random.choice(poblacion_base)\n",
    "    expresion2 = random.choice(poblacion_base)\n",
    "    operacion = random.choice(operaciones)\n",
    "    if operacion == 'comp':\n",
    "        # Se pasan a funciones sympy\n",
    "        x = symbols('x')\n",
    "        expresiones = [expresion1, expresion2]\n",
    "        expresiones_sympy = [sympify(exp) for exp in expresiones]\n",
    "        f1 = expresiones_sympy[0]\n",
    "        f2 = expresiones_sympy[1]\n",
    "        # Se componen expresiones\n",
    "        composicion = f1.subs(x, f2)\n",
    "        poblacion_inicial.append(str(composicion))\n",
    "    else: \n",
    "        expresion = f\"{expresion1}{operacion} {expresion2}\"\n",
    "        poblacion_inicial.append(expresion)\n",
    "\n",
    "# Imprimir poblacion inicial\n",
    "print(poblacion_inicial)"
   ]
  },
  {
   "cell_type": "code",
   "execution_count": 118,
   "metadata": {},
   "outputs": [
    {
     "name": "stdout",
     "output_type": "stream",
     "text": [
      "[4157.01591714 4430.91057477 4318.16561711 4300.92678451]\n"
     ]
    }
   ],
   "source": [
    "# POBLACION INICIAL\n",
    "\n",
    "# Define la variable simbólica x\n",
    "x = symbols('x')\n",
    "\n",
    "# Lista de funciones en forma de texto\n",
    "poblacion_inicial = ['exp(x)', 'log(x)', 'x', 'x**2']\n",
    "\n",
    "operaciones = ['*', '**', '/', '+', '-']\n",
    "\n",
    "# Convertir de texto a expresiones sympy\n",
    "expresiones_sympy = [sympify(exp) for exp in poblacion_inicial]\n",
    "\n",
    "# Convertir de expresiones sympy a funciones de Python\n",
    "funciones_python = [lambdify(x, expresion, 'numpy') for expresion in expresiones_sympy]\n",
    "\n",
    "# Evaluamos las funciones en z\n",
    "valores_x = z.tolist()\n",
    "valores_y = np.zeros((len(funciones_python), len(valores_x)))\n",
    "Chi = np.zeros(len(funciones_python))\n",
    "for i, funcion in enumerate(funciones_python):\n",
    "    valores_y[i, :] = [funcion(valor) for valor in valores_x]\n",
    "#print(valores_y)\n",
    "    #print(f\"Resultado para la función {funcion}: {valores_y}\")\n",
    "\n",
    "    # CALCULO DE CHI\n",
    "    Chi[i] = np.sum(((H - [funcion(valor) for valor in valores_x])/desv)**2)\n",
    "\n",
    "print(Chi)"
   ]
  },
  {
   "cell_type": "code",
   "execution_count": 119,
   "metadata": {},
   "outputs": [
    {
     "name": "stdout",
     "output_type": "stream",
     "text": [
      "['exp(x)', 'log(x)', 'x', 'x**2']\n",
      "exp(x) comp log(x) - x comp x**2\n"
     ]
    },
    {
     "ename": "SyntaxError",
     "evalue": "invalid syntax (<lambdifygenerated-76>, line 2)",
     "output_type": "error",
     "traceback": [
      "Traceback \u001b[1;36m(most recent call last)\u001b[0m:\n",
      "\u001b[0m  File \u001b[0;32m~\\AppData\\Local\\Packages\\PythonSoftwareFoundation.Python.3.11_qbz5n2kfra8p0\\LocalCache\\local-packages\\Python311\\site-packages\\IPython\\core\\interactiveshell.py:3460\u001b[0m in \u001b[0;35mrun_code\u001b[0m\n    exec(code_obj, self.user_global_ns, self.user_ns)\u001b[0m\n",
      "\u001b[0m  Cell \u001b[0;32mIn[119], line 31\u001b[0m\n    funciones_python = [lambdify(x, expresion, 'numpy') for expresion in expresiones_combinadas]\u001b[0m\n",
      "\u001b[0m  Cell \u001b[0;32mIn[119], line 31\u001b[0m in \u001b[0;35m<listcomp>\u001b[0m\n    funciones_python = [lambdify(x, expresion, 'numpy') for expresion in expresiones_combinadas]\u001b[0m\n",
      "\u001b[1;36m  File \u001b[1;32m~\\AppData\\Local\\Packages\\PythonSoftwareFoundation.Python.3.11_qbz5n2kfra8p0\\LocalCache\\local-packages\\Python311\\site-packages\\sympy\\utilities\\lambdify.py:903\u001b[1;36m in \u001b[1;35mlambdify\u001b[1;36m\n\u001b[1;33m    c = compile(funcstr, filename, 'exec')\u001b[1;36m\n",
      "\u001b[1;36m  File \u001b[1;32m<lambdifygenerated-76>:2\u001b[1;36m\u001b[0m\n\u001b[1;33m    return exp(x) comp log(x) - x comp x**2\u001b[0m\n\u001b[1;37m                  ^\u001b[0m\n\u001b[1;31mSyntaxError\u001b[0m\u001b[1;31m:\u001b[0m invalid syntax\n"
     ]
    }
   ],
   "source": [
    "# COMBINACION\n",
    "\n",
    "# Convertir de funciones de Python a texto (nuevamente la lista)\n",
    "funciones_texto = [str(funcion) for funcion in expresiones_sympy]\n",
    "print(funciones_texto)\n",
    "\n",
    "# Listas originales\n",
    "poblacion_inicial = funciones_texto\n",
    "operaciones = ['*', '**', '/', '+', '-', 'comp']  # Agregar 'comp' como una nueva operación tal que exp(x) comp log(x) comp x = exp(log(x))\n",
    "\n",
    "# Número de combinaciones deseadas\n",
    "num_combinaciones = 10\n",
    "\n",
    "# Crear las expresiones combinadas\n",
    "expresiones_combinadas = []\n",
    "for _ in range(num_combinaciones):\n",
    "    expresion_combinada = poblacion_inicial[0]\n",
    "    for i in range(len(poblacion_inicial) - 1):\n",
    "        if operaciones[i] == 'comp':\n",
    "            expresion_combinada = f\"exp(log({expresion_combinada}))\"\n",
    "        else:\n",
    "            operacion = random.choice(operaciones)\n",
    "            expresion_combinada += f\" {operacion} {poblacion_inicial[i + 1]}\"\n",
    "    expresiones_combinadas.append(expresion_combinada)\n",
    "\n",
    "# Imprimir las expresiones combinadas\n",
    "for expresion_combinada in expresiones_combinadas:\n",
    "    print(expresion_combinada)\n",
    "\n",
    "# Ahora falta pasarlas a funciones de python!\n",
    "    funciones_python = [lambdify(x, expresion, 'numpy') for expresion in expresiones_combinadas]"
   ]
  },
  {
   "cell_type": "code",
   "execution_count": null,
   "metadata": {},
   "outputs": [
    {
     "ename": "AttributeError",
     "evalue": "'function' object has no attribute 'is_commutative'",
     "output_type": "error",
     "traceback": [
      "\u001b[1;31m---------------------------------------------------------------------------\u001b[0m",
      "\u001b[1;31mAttributeError\u001b[0m                            Traceback (most recent call last)",
      "Cell \u001b[1;32mIn[15], line 7\u001b[0m\n\u001b[0;32m      4\u001b[0m x \u001b[38;5;241m=\u001b[39m symbols(\u001b[38;5;124m'\u001b[39m\u001b[38;5;124mx\u001b[39m\u001b[38;5;124m'\u001b[39m)\n\u001b[0;32m      6\u001b[0m \u001b[38;5;66;03m# Expresión compuesta\u001b[39;00m\n\u001b[1;32m----> 7\u001b[0m exp_log_x_comp_x \u001b[38;5;241m=\u001b[39m \u001b[43mcompose\u001b[49m\u001b[43m(\u001b[49m\u001b[43mexp\u001b[49m\u001b[43m,\u001b[49m\u001b[43m \u001b[49m\u001b[43mlog\u001b[49m\u001b[43m,\u001b[49m\u001b[43m \u001b[49m\u001b[38;5;28;43;01mlambda\u001b[39;49;00m\u001b[43m \u001b[49m\u001b[43mx\u001b[49m\u001b[43m:\u001b[49m\u001b[43m \u001b[49m\u001b[43mx\u001b[49m\u001b[43m)\u001b[49m\n",
      "File \u001b[1;32m~\\AppData\\Local\\Packages\\PythonSoftwareFoundation.Python.3.11_qbz5n2kfra8p0\\LocalCache\\local-packages\\Python311\\site-packages\\sympy\\polys\\polytools.py:5890\u001b[0m, in \u001b[0;36mcompose\u001b[1;34m(f, g, *gens, **args)\u001b[0m\n\u001b[0;32m   5887\u001b[0m options\u001b[38;5;241m.\u001b[39mallowed_flags(args, [\u001b[38;5;124m'\u001b[39m\u001b[38;5;124mpolys\u001b[39m\u001b[38;5;124m'\u001b[39m])\n\u001b[0;32m   5889\u001b[0m \u001b[38;5;28;01mtry\u001b[39;00m:\n\u001b[1;32m-> 5890\u001b[0m     (F, G), opt \u001b[38;5;241m=\u001b[39m \u001b[43mparallel_poly_from_expr\u001b[49m\u001b[43m(\u001b[49m\u001b[43m(\u001b[49m\u001b[43mf\u001b[49m\u001b[43m,\u001b[49m\u001b[43m \u001b[49m\u001b[43mg\u001b[49m\u001b[43m)\u001b[49m\u001b[43m,\u001b[49m\u001b[43m \u001b[49m\u001b[38;5;241;43m*\u001b[39;49m\u001b[43mgens\u001b[49m\u001b[43m,\u001b[49m\u001b[43m \u001b[49m\u001b[38;5;241;43m*\u001b[39;49m\u001b[38;5;241;43m*\u001b[39;49m\u001b[43margs\u001b[49m\u001b[43m)\u001b[49m\n\u001b[0;32m   5891\u001b[0m \u001b[38;5;28;01mexcept\u001b[39;00m PolificationFailed \u001b[38;5;28;01mas\u001b[39;00m exc:\n\u001b[0;32m   5892\u001b[0m     \u001b[38;5;28;01mraise\u001b[39;00m ComputationFailed(\u001b[38;5;124m'\u001b[39m\u001b[38;5;124mcompose\u001b[39m\u001b[38;5;124m'\u001b[39m, \u001b[38;5;241m2\u001b[39m, exc)\n",
      "File \u001b[1;32m~\\AppData\\Local\\Packages\\PythonSoftwareFoundation.Python.3.11_qbz5n2kfra8p0\\LocalCache\\local-packages\\Python311\\site-packages\\sympy\\polys\\polytools.py:4503\u001b[0m, in \u001b[0;36mparallel_poly_from_expr\u001b[1;34m(exprs, *gens, **args)\u001b[0m\n\u001b[0;32m   4500\u001b[0m \u001b[38;5;129m@public\u001b[39m\n\u001b[0;32m   4501\u001b[0m \u001b[38;5;28;01mdef\u001b[39;00m \u001b[38;5;21mparallel_poly_from_expr\u001b[39m(exprs, \u001b[38;5;241m*\u001b[39mgens, \u001b[38;5;241m*\u001b[39m\u001b[38;5;241m*\u001b[39margs):\n\u001b[0;32m   4502\u001b[0m \u001b[38;5;250m    \u001b[39m\u001b[38;5;124;03m\"\"\"Construct polynomials from expressions. \"\"\"\u001b[39;00m\n\u001b[1;32m-> 4503\u001b[0m     opt \u001b[38;5;241m=\u001b[39m \u001b[43moptions\u001b[49m\u001b[38;5;241;43m.\u001b[39;49m\u001b[43mbuild_options\u001b[49m\u001b[43m(\u001b[49m\u001b[43mgens\u001b[49m\u001b[43m,\u001b[49m\u001b[43m \u001b[49m\u001b[43margs\u001b[49m\u001b[43m)\u001b[49m\n\u001b[0;32m   4504\u001b[0m     \u001b[38;5;28;01mreturn\u001b[39;00m _parallel_poly_from_expr(exprs, opt)\n",
      "File \u001b[1;32m~\\AppData\\Local\\Packages\\PythonSoftwareFoundation.Python.3.11_qbz5n2kfra8p0\\LocalCache\\local-packages\\Python311\\site-packages\\sympy\\polys\\polyoptions.py:744\u001b[0m, in \u001b[0;36mbuild_options\u001b[1;34m(gens, args)\u001b[0m\n\u001b[0;32m    741\u001b[0m     gens, args \u001b[38;5;241m=\u001b[39m (), gens\n\u001b[0;32m    743\u001b[0m \u001b[38;5;28;01mif\u001b[39;00m \u001b[38;5;28mlen\u001b[39m(args) \u001b[38;5;241m!=\u001b[39m \u001b[38;5;241m1\u001b[39m \u001b[38;5;129;01mor\u001b[39;00m \u001b[38;5;124m'\u001b[39m\u001b[38;5;124mopt\u001b[39m\u001b[38;5;124m'\u001b[39m \u001b[38;5;129;01mnot\u001b[39;00m \u001b[38;5;129;01min\u001b[39;00m args \u001b[38;5;129;01mor\u001b[39;00m gens:\n\u001b[1;32m--> 744\u001b[0m     \u001b[38;5;28;01mreturn\u001b[39;00m \u001b[43mOptions\u001b[49m\u001b[43m(\u001b[49m\u001b[43mgens\u001b[49m\u001b[43m,\u001b[49m\u001b[43m \u001b[49m\u001b[43margs\u001b[49m\u001b[43m)\u001b[49m\n\u001b[0;32m    745\u001b[0m \u001b[38;5;28;01melse\u001b[39;00m:\n\u001b[0;32m    746\u001b[0m     \u001b[38;5;28;01mreturn\u001b[39;00m args[\u001b[38;5;124m'\u001b[39m\u001b[38;5;124mopt\u001b[39m\u001b[38;5;124m'\u001b[39m]\n",
      "File \u001b[1;32m~\\AppData\\Local\\Packages\\PythonSoftwareFoundation.Python.3.11_qbz5n2kfra8p0\\LocalCache\\local-packages\\Python311\\site-packages\\sympy\\polys\\polyoptions.py:153\u001b[0m, in \u001b[0;36mOptions.__init__\u001b[1;34m(self, gens, args, flags, strict)\u001b[0m\n\u001b[0;32m    150\u001b[0m         \u001b[38;5;28;01mif\u001b[39;00m value \u001b[38;5;129;01mis\u001b[39;00m \u001b[38;5;129;01mnot\u001b[39;00m \u001b[38;5;28;01mNone\u001b[39;00m:\n\u001b[0;32m    151\u001b[0m             \u001b[38;5;28mself\u001b[39m[option] \u001b[38;5;241m=\u001b[39m \u001b[38;5;28mcls\u001b[39m\u001b[38;5;241m.\u001b[39mpreprocess(value)\n\u001b[1;32m--> 153\u001b[0m \u001b[43mpreprocess_options\u001b[49m\u001b[43m(\u001b[49m\u001b[43margs\u001b[49m\u001b[43m)\u001b[49m\n\u001b[0;32m    155\u001b[0m \u001b[38;5;28;01mfor\u001b[39;00m key, value \u001b[38;5;129;01min\u001b[39;00m \u001b[38;5;28mdict\u001b[39m(defaults)\u001b[38;5;241m.\u001b[39mitems():\n\u001b[0;32m    156\u001b[0m     \u001b[38;5;28;01mif\u001b[39;00m key \u001b[38;5;129;01min\u001b[39;00m \u001b[38;5;28mself\u001b[39m:\n",
      "File \u001b[1;32m~\\AppData\\Local\\Packages\\PythonSoftwareFoundation.Python.3.11_qbz5n2kfra8p0\\LocalCache\\local-packages\\Python311\\site-packages\\sympy\\polys\\polyoptions.py:151\u001b[0m, in \u001b[0;36mOptions.__init__.<locals>.preprocess_options\u001b[1;34m(args)\u001b[0m\n\u001b[0;32m    148\u001b[0m             \u001b[38;5;28;01mraise\u001b[39;00m OptionError(\u001b[38;5;124m\"\u001b[39m\u001b[38;5;124m'\u001b[39m\u001b[38;5;132;01m%s\u001b[39;00m\u001b[38;5;124m'\u001b[39m\u001b[38;5;124m flag is not allowed in this context\u001b[39m\u001b[38;5;124m\"\u001b[39m \u001b[38;5;241m%\u001b[39m option)\n\u001b[0;32m    150\u001b[0m \u001b[38;5;28;01mif\u001b[39;00m value \u001b[38;5;129;01mis\u001b[39;00m \u001b[38;5;129;01mnot\u001b[39;00m \u001b[38;5;28;01mNone\u001b[39;00m:\n\u001b[1;32m--> 151\u001b[0m     \u001b[38;5;28mself\u001b[39m[option] \u001b[38;5;241m=\u001b[39m \u001b[38;5;28;43mcls\u001b[39;49m\u001b[38;5;241;43m.\u001b[39;49m\u001b[43mpreprocess\u001b[49m\u001b[43m(\u001b[49m\u001b[43mvalue\u001b[49m\u001b[43m)\u001b[49m\n",
      "File \u001b[1;32m~\\AppData\\Local\\Packages\\PythonSoftwareFoundation.Python.3.11_qbz5n2kfra8p0\\LocalCache\\local-packages\\Python311\\site-packages\\sympy\\polys\\polyoptions.py:291\u001b[0m, in \u001b[0;36mGens.preprocess\u001b[1;34m(cls, gens)\u001b[0m\n\u001b[0;32m    289\u001b[0m \u001b[38;5;28;01melif\u001b[39;00m has_dups(gens):\n\u001b[0;32m    290\u001b[0m     \u001b[38;5;28;01mraise\u001b[39;00m GeneratorsError(\u001b[38;5;124m\"\u001b[39m\u001b[38;5;124mduplicated generators: \u001b[39m\u001b[38;5;132;01m%s\u001b[39;00m\u001b[38;5;124m\"\u001b[39m \u001b[38;5;241m%\u001b[39m \u001b[38;5;28mstr\u001b[39m(gens))\n\u001b[1;32m--> 291\u001b[0m \u001b[38;5;28;01melif\u001b[39;00m \u001b[38;5;28;43many\u001b[39;49m\u001b[43m(\u001b[49m\u001b[43mgen\u001b[49m\u001b[38;5;241;43m.\u001b[39;49m\u001b[43mis_commutative\u001b[49m\u001b[43m \u001b[49m\u001b[38;5;129;43;01mis\u001b[39;49;00m\u001b[43m \u001b[49m\u001b[38;5;28;43;01mFalse\u001b[39;49;00m\u001b[43m \u001b[49m\u001b[38;5;28;43;01mfor\u001b[39;49;00m\u001b[43m \u001b[49m\u001b[43mgen\u001b[49m\u001b[43m \u001b[49m\u001b[38;5;129;43;01min\u001b[39;49;00m\u001b[43m \u001b[49m\u001b[43mgens\u001b[49m\u001b[43m)\u001b[49m:\n\u001b[0;32m    292\u001b[0m     \u001b[38;5;28;01mraise\u001b[39;00m GeneratorsError(\u001b[38;5;124m\"\u001b[39m\u001b[38;5;124mnon-commutative generators: \u001b[39m\u001b[38;5;132;01m%s\u001b[39;00m\u001b[38;5;124m\"\u001b[39m \u001b[38;5;241m%\u001b[39m \u001b[38;5;28mstr\u001b[39m(gens))\n\u001b[0;32m    294\u001b[0m \u001b[38;5;28;01mreturn\u001b[39;00m \u001b[38;5;28mtuple\u001b[39m(gens)\n",
      "File \u001b[1;32m~\\AppData\\Local\\Packages\\PythonSoftwareFoundation.Python.3.11_qbz5n2kfra8p0\\LocalCache\\local-packages\\Python311\\site-packages\\sympy\\polys\\polyoptions.py:291\u001b[0m, in \u001b[0;36m<genexpr>\u001b[1;34m(.0)\u001b[0m\n\u001b[0;32m    289\u001b[0m \u001b[38;5;28;01melif\u001b[39;00m has_dups(gens):\n\u001b[0;32m    290\u001b[0m     \u001b[38;5;28;01mraise\u001b[39;00m GeneratorsError(\u001b[38;5;124m\"\u001b[39m\u001b[38;5;124mduplicated generators: \u001b[39m\u001b[38;5;132;01m%s\u001b[39;00m\u001b[38;5;124m\"\u001b[39m \u001b[38;5;241m%\u001b[39m \u001b[38;5;28mstr\u001b[39m(gens))\n\u001b[1;32m--> 291\u001b[0m \u001b[38;5;28;01melif\u001b[39;00m \u001b[38;5;28many\u001b[39m(\u001b[43mgen\u001b[49m\u001b[38;5;241;43m.\u001b[39;49m\u001b[43mis_commutative\u001b[49m \u001b[38;5;129;01mis\u001b[39;00m \u001b[38;5;28;01mFalse\u001b[39;00m \u001b[38;5;28;01mfor\u001b[39;00m gen \u001b[38;5;129;01min\u001b[39;00m gens):\n\u001b[0;32m    292\u001b[0m     \u001b[38;5;28;01mraise\u001b[39;00m GeneratorsError(\u001b[38;5;124m\"\u001b[39m\u001b[38;5;124mnon-commutative generators: \u001b[39m\u001b[38;5;132;01m%s\u001b[39;00m\u001b[38;5;124m\"\u001b[39m \u001b[38;5;241m%\u001b[39m \u001b[38;5;28mstr\u001b[39m(gens))\n\u001b[0;32m    294\u001b[0m \u001b[38;5;28;01mreturn\u001b[39;00m \u001b[38;5;28mtuple\u001b[39m(gens)\n",
      "\u001b[1;31mAttributeError\u001b[0m: 'function' object has no attribute 'is_commutative'"
     ]
    }
   ],
   "source": [
    "from sympy import symbols, exp, log, lambdify, compose\n",
    "\n",
    "# Define la variable simbólica\n",
    "x = symbols('x')\n",
    "\n",
    "# Expresión compuesta\n",
    "exp_log_x_comp_x = compose(exp, log, lambda x: x)"
   ]
  },
  {
   "cell_type": "code",
   "execution_count": null,
   "metadata": {},
   "outputs": [
    {
     "name": "stdout",
     "output_type": "stream",
     "text": [
      "<class 'sympy.core.add.Add'>\n"
     ]
    }
   ],
   "source": [
    "from sympy import compose\n",
    "from sympy.abc import x\n",
    "A = compose(x**2 + x, x - 1)\n",
    "print(type(A))"
   ]
  },
  {
   "cell_type": "code",
   "execution_count": null,
   "metadata": {},
   "outputs": [
    {
     "name": "stdout",
     "output_type": "stream",
     "text": [
      "6\n"
     ]
    }
   ],
   "source": [
    "poblacion_inicial = ['exp(x)', 'log(x)', 'x', 'x**2']\n",
    "\n",
    "# Convertir de texto a expresiones sympy\n",
    "expresiones_sympy = [sympify(exp) for exp in poblacion_inicial]\n",
    "\n",
    "# Convertir de expresiones sympy a funciones de Python\n",
    "funciones_python = [lambdify(x, expresion, 'numpy') for expresion in expresiones_sympy]\n",
    "\n",
    "print(funciones_python[0](2))"
   ]
  },
  {
   "cell_type": "code",
   "execution_count": null,
   "metadata": {},
   "outputs": [],
   "source": []
  }
 ],
 "metadata": {
  "kernelspec": {
   "display_name": "Python 3",
   "language": "python",
   "name": "python3"
  },
  "language_info": {
   "codemirror_mode": {
    "name": "ipython",
    "version": 3
   },
   "file_extension": ".py",
   "mimetype": "text/x-python",
   "name": "python",
   "nbconvert_exporter": "python",
   "pygments_lexer": "ipython3",
   "version": "3.11.7"
  }
 },
 "nbformat": 4,
 "nbformat_minor": 2
}
