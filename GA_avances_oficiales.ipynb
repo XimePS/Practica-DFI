{
 "cells": [
  {
   "cell_type": "markdown",
   "metadata": {},
   "source": [
    "# Algoritmo Genético para calcular el parámetro de Hubble $H(z)$"
   ]
  },
  {
   "cell_type": "markdown",
   "metadata": {},
   "source": [
    "Avances hasta ahora: \n",
    "\n",
    "1. Empezamos con una poblacion base de funciones y otra de operaciones\n",
    "2. Se crea la generación 0 combinando estas dos poblaciones bases\n",
    "3. Se seleccionan individuos de la población 0 a partir del valor de su $\\Chi^2$\n",
    "4. Se elige un porcentaje de la población 0 que contiene menor chi\n",
    "5. Se conservan los de menor $\\Chi^2$ y al resto se les combina(en parejas) y muta aleatoriamente\n",
    "6. Se crea generación nueva con los mutados/combinados y los con menor $\\Chi^2$ de la generación anterior\n",
    "\n",
    "Errores: \n",
    "1. No sé porqué a veces el chi me da un numero imaginario\n",
    "2. El número de indivudos dentro de una generación se reduce muy rápido\n",
    "3. El tiempo de ejecución aumenta drásticamente con el número de individuos de la población inicial"
   ]
  },
  {
   "cell_type": "code",
   "execution_count": 673,
   "metadata": {},
   "outputs": [],
   "source": [
    "import numpy as np\n",
    "import matplotlib.pyplot as plt\n",
    "import random\n",
    "from sympy import symbols, sympify, lambdify, compose, I, pi, log, exp, simplify\n",
    "from sympy.abc import x\n",
    "import time\n",
    "\n"
   ]
  },
  {
   "cell_type": "code",
   "execution_count": 674,
   "metadata": {},
   "outputs": [],
   "source": [
    "# Extracción de datos\n",
    "\n",
    "columna1 = []\n",
    "columna2 = []\n",
    "columna3 = []\n",
    "\n",
    "with open('c:/Users/ximen/Desktop/Practicas DFI/hub_data_3.txt', 'r') as archivo:\n",
    "    # Lee cada línea del archivo\n",
    "    for linea in archivo: #cada linea es una fila del texto\n",
    "        elementos = linea.split() # divide la línea en sus elementos utilizando espacios como delimitadores\n",
    "        #print(elementos)\n",
    "        columna1.append(elementos[0]) # Agrega cada elemento a su respectiva columna\n",
    "        columna2.append(elementos[1])\n",
    "        columna3.append(elementos[2])\n",
    "\n",
    "z = np.zeros(len(columna1))\n",
    "for i in range(len(columna1)):\n",
    "  z[i] = float(columna1[i])\n",
    "\n",
    "H = np.zeros(len(columna2))\n",
    "for i in range(len(columna2)):\n",
    "  H[i] = float(columna2[i])\n",
    "\n",
    "desv = np.zeros(len(columna3))\n",
    "for i in range(len(columna3)):\n",
    "  desv[i] = float(columna3[i])"
   ]
  },
  {
   "cell_type": "markdown",
   "metadata": {},
   "source": [
    "Simplificador es una función para simplificar las expresiones que dan de trabajar con funciones sympy. Por ejemplo, $x+x$ lo simplifica a $2x$. "
   ]
  },
  {
   "cell_type": "code",
   "execution_count": 675,
   "metadata": {},
   "outputs": [],
   "source": [
    "def Simplificador(poblacion):\n",
    "    x = symbols('x')\n",
    "    expresiones_simplificadas = [simplify(expresion) for expresion in poblacion]\n",
    "    return expresiones_simplificadas"
   ]
  },
  {
   "cell_type": "markdown",
   "metadata": {},
   "source": [
    "Creador genera la población $0$."
   ]
  },
  {
   "cell_type": "code",
   "execution_count": 676,
   "metadata": {},
   "outputs": [
    {
     "name": "stdout",
     "output_type": "stream",
     "text": [
      "Creador tomó 0.0 segundos en ejecutarse.\n"
     ]
    }
   ],
   "source": [
    "# Medir el tiempo de ejecución\n",
    "inicio_tiempo = time.time()\n",
    "\n",
    "def Creador(num_poblacion_inicial, poblacion_base, operaciones):\n",
    "    '''\n",
    "    Creador recibe: \n",
    "    1. El numero de individuos que se desea que tenga la poblacion inicial\n",
    "    2. Una lista con funciones base cuyas combinaciones crearan la poblacion inicial\n",
    "    3. una lista con operaciones que actuarán sobre las funciones al momento de combinarlas\n",
    "    '''\n",
    "    poblacion_inicial= []\n",
    "    for n in range(num_poblacion_inicial):\n",
    "        expresion1 = random.choice(poblacion_base)\n",
    "        expresion2 = random.choice(poblacion_base)\n",
    "        operacion = random.choice(operaciones)\n",
    "        if operacion == 'comp':\n",
    "            # Se pasan a funciones sympy\n",
    "            x = symbols('x')\n",
    "            expresiones = [expresion1, expresion2]\n",
    "            expresiones_sympy = [sympify(exp) for exp in expresiones] \n",
    "            f1 = expresiones_sympy[0]\n",
    "            f2 = expresiones_sympy[1]\n",
    "            # Se componen expresiones\n",
    "            composicion = f1.subs(x, f2)\n",
    "            poblacion_inicial.append(str(composicion))\n",
    "        else: \n",
    "            expresion = f\"{expresion1} {operacion} {expresion2}\"\n",
    "            poblacion_inicial.append(expresion)\n",
    "            \n",
    "    return poblacion_inicial\n",
    "\n",
    "# Calcular el tiempo transcurrido\n",
    "tiempo_transcurrido = time.time() - inicio_tiempo\n",
    "\n",
    "print(f\"Creador tomó {tiempo_transcurrido} segundos en ejecutarse.\")"
   ]
  },
  {
   "cell_type": "markdown",
   "metadata": {},
   "source": [
    "Seleccionador selecciona ciertos individuos de la población $0$, favoreciendo a los que tienen menor $\\Chi^2$."
   ]
  },
  {
   "cell_type": "code",
   "execution_count": 677,
   "metadata": {},
   "outputs": [
    {
     "name": "stdout",
     "output_type": "stream",
     "text": [
      "Seleccionador tomó 0.0 segundos en ejecutarse.\n"
     ]
    }
   ],
   "source": [
    "# Medir el tiempo de ejecución\n",
    "inicio_tiempo = time.time()\n",
    "\n",
    "def Seleccionador(poblacion_inicial, valores_observados, porcentaje_seleccion):\n",
    "    valores_x = valores_observados\n",
    "    Chi = np.zeros(len(poblacion_inicial))\n",
    "    x = symbols('x')\n",
    "    expresiones_sympy = [sympify(exp) for exp in poblacion_inicial]\n",
    "\n",
    "    # Lambdify para evaluación eficiente\n",
    "    funciones_evaluadas = [lambdify(x, expr, 'numpy') for expr in expresiones_sympy]\n",
    "    valores_x_np = np.array(valores_x)\n",
    "    z_np = np.array(z)\n",
    "    desv_np = np.array(desv)\n",
    "\n",
    "    for n, funcion_evaluada in enumerate(funciones_evaluadas):\n",
    "        # Evaluar la función con lambdify\n",
    "        f = funcion_evaluada(valores_x_np)\n",
    "\n",
    "        # Calcular la diferencia y chi cuadrado\n",
    "        diferencia = (z_np - f)\n",
    "        chi = np.sum((diferencia/desv_np)**2)\n",
    "        chi = 100000000000 if np.isnan(chi) or np.isinf(chi) else chi\n",
    "        Chi[n] = chi\n",
    "    #print(Chi)\n",
    "\n",
    "    # Utilizar funciones de NumPy para cálculos más eficientes\n",
    "    seleccion = np.percentile(Chi, porcentaje_seleccion)\n",
    "    #print('Las seleccion realizada por Seleccionador fue: ' + str(seleccion))\n",
    "    seleccionados = Chi[Chi <= seleccion]\n",
    "    indices = np.where(Chi <= seleccion)[0]\n",
    "    funciones_seleccionadas = [poblacion_inicial[i] for i in indices]\n",
    "\n",
    "    #print('Las funciones seleccionadas por Seleccionador fueron: ' + str(funciones_seleccionadas))\n",
    "\n",
    "    return funciones_seleccionadas, seleccionados\n",
    "\n",
    "print(f\"Seleccionador tomó {tiempo_transcurrido} segundos en ejecutarse.\")"
   ]
  },
  {
   "cell_type": "markdown",
   "metadata": {},
   "source": [
    "En reproductor tengo tres modos. Pero los tres en resumen combinan y mutan a los seleccionados, para crear la nueva generación. \n",
    "\n",
    "1. Elegir el mejor 20% de los seleccionados anteriormente y mantenerlos. El otro 80% se combina y un 10% de estos último se muta. \n",
    "2. Dejar un elemento de la población original y combinar/mutar todos los demás. \n",
    "3. Combinar a todos los seleccionados y mutar a un 10% de ellos. En la nueva generación están los padres e hijos (es el modo que está ahora)."
   ]
  },
  {
   "cell_type": "code",
   "execution_count": 678,
   "metadata": {},
   "outputs": [
    {
     "name": "stdout",
     "output_type": "stream",
     "text": [
      "Reproductor tomó 0.0 segundos en ejecutarse.\n"
     ]
    }
   ],
   "source": [
    "# Medir el tiempo de ejecución\n",
    "inicio_tiempo = time.time()\n",
    "\n",
    "def Reproductor(funciones_seleccionadas, operaciones, porcentaje_combinacion, Chi_seleccionados, porcentaje_mutacion, poblacion_base): \n",
    "\n",
    "    #print('funciones_sleccionadas: ' + str(funciones_seleccionadas))\n",
    "\n",
    "    #elegir el 20% con menor chi de los seleccionados\n",
    "    #mejor_seleccion = np.percentile(Chi_seleccionados, int(100 - porcentaje_combinacion)) \n",
    "    #mejores_chi = Chi_seleccionados[Chi_seleccionados <= mejor_seleccion]\n",
    "    #mejores_indices = np.where(Chi_seleccionados <= mejor_seleccion)[0]\n",
    "    #mejores_funciones = [funciones_seleccionadas[i] for i in mejores_indices]\n",
    "\n",
    "    #print('mejores_funciones: ' + str(mejores_funciones))\n",
    "    #print(len(mejores_funciones))\n",
    "        \n",
    "    combinados = []\n",
    "    #funciones_a_combinar = np.delete(funciones_seleccionadas, 0)\n",
    "    funciones_a_combinar = funciones_seleccionadas\n",
    "\n",
    "    for n in range(1, len(funciones_a_combinar)):\n",
    "\n",
    "        # Se eligen padres tal que sean funciones diferentes siempre\n",
    "        expresion1 = funciones_a_combinar[n]\n",
    "        indice = random.randint(0, len(funciones_a_combinar)-1)\n",
    "        while indice == n:\n",
    "            indice = random.randint(0, len(funciones_a_combinar)-1)\n",
    "        expresion2 = funciones_a_combinar[indice]\n",
    "\n",
    "        # Se elige operacion que los combinará\n",
    "        operacion = random.choice(operaciones)\n",
    "        if operacion == 'comp':\n",
    "            # Se pasan a funciones sympy\n",
    "            x = symbols('x')\n",
    "            expresiones = [expresion1, expresion2]\n",
    "            expresiones_sympy = [sympify(exp) for exp in expresiones] \n",
    "            f1 = expresiones_sympy[0]\n",
    "            f2 = expresiones_sympy[1]\n",
    "            composicion = f1.subs(x, f2)\n",
    "            combinados.append(str(composicion))\n",
    "        else: \n",
    "            expresion = f\"{expresion1} {operacion} {expresion2}\"\n",
    "            combinados.append(expresion)\n",
    "\n",
    "    #print('funciones_combinadas: ' + str(combinados))\n",
    "    #print(len(combinados))\n",
    "\n",
    "    # Se transforma combinados a numpy array\n",
    "    combinados = np.array(combinados)\n",
    "\n",
    "    # Empieza mutacion\n",
    "    num_mutacion = int(len(combinados)*(porcentaje_mutacion/100))\n",
    "\n",
    "    mutaciones = []\n",
    "    funciones_a_mutar = []\n",
    "\n",
    "    # Se eligen (dentro de combinados) funciones a mutar tal que no sean iguales entre si\n",
    "    for n in range(0, num_mutacion): \n",
    "        if n == 0:\n",
    "            expresion_m = random.choice(combinados)\n",
    "            funciones_a_mutar.append(expresion_m)\n",
    "        else:\n",
    "            expresion_m = random.choice(combinados)\n",
    "            while expresion_m in funciones_a_mutar:\n",
    "                expresion_m = random.choice(combinados)\n",
    "            funciones_a_mutar.append(expresion_m)\n",
    "\n",
    "        # Se elige una funcion base y una operacion base para mutar ###QUIZA ESTO SE TENGA QUE OPTIMIZAR###\n",
    "        expresion2 = random.choice(poblacion_base)\n",
    "        operacion = random.choice(operaciones)\n",
    "\n",
    "        #print('funciones_a_mutar: ' +str(funciones_a_mutar))\n",
    "\n",
    "        if operacion == 'comp':\n",
    "            x = symbols('x')\n",
    "            expresiones = [expresion_m, expresion2]\n",
    "            expresiones_sympy = [sympify(exp) for exp in expresiones] \n",
    "            f1 = expresiones_sympy[0]\n",
    "            f2 = expresiones_sympy[1]\n",
    "            # Se componen expresiones\n",
    "            composicion = f1.subs(x, f2)\n",
    "            mutaciones.append(str(composicion))\n",
    "        else: \n",
    "            expresion = f\"{expresion_m} {operacion} {expresion2}\"\n",
    "            mutaciones.append(expresion)\n",
    "    \n",
    "    #print('funciones_mutadas: ' + str(mutaciones))\n",
    "    #print(len(mutaciones))\n",
    "            \n",
    "    # Agrega los combinados que no fueron mutados y las mejores funciones seleccionadas al inicio\n",
    "            \n",
    "    indices_no_mutados = np.array([i for i, elem in enumerate(combinados) if elem not in funciones_a_mutar])\n",
    "    funciones_sin_mutar = combinados[indices_no_mutados]\n",
    "    funciones_sin_mutar = funciones_sin_mutar.tolist()\n",
    "    \n",
    "    mutaciones += funciones_sin_mutar + funciones_seleccionadas\n",
    "\n",
    "    nueva_generacion = Simplificador(mutaciones)\n",
    "    #print('largo_nueva_generacion: ' + str(len(nueva_generacion)))\n",
    "\n",
    "    return nueva_generacion\n",
    "\n",
    "# Calcular el tiempo transcurrido\n",
    "tiempo_transcurrido = time.time() - inicio_tiempo\n",
    "\n",
    "print(f\"Reproductor tomó {tiempo_transcurrido} segundos en ejecutarse.\")"
   ]
  },
  {
   "cell_type": "markdown",
   "metadata": {},
   "source": [
    "Este el el código general del algoritmo genético. Se implementan las $3$ funciones definidas anteriormente."
   ]
  },
  {
   "cell_type": "code",
   "execution_count": 679,
   "metadata": {},
   "outputs": [],
   "source": [
    "def GA_2(num_generaciones, num_poblacion_inicial, poblacion_base, operaciones, valores_observados, porcentaje_seleccion, porcentaje_combinacion, porcentaje_mutacion):\n",
    "\n",
    "    '''\n",
    "    Hay tres formas que se finalice el código:\n",
    "    1. Que se cumpla con el número de generaciones ingresado como argumento\n",
    "    2. Que se llegue a una población de tamaño = 1\n",
    "    3. Que se llegue a una población con todos los individuos iguales\n",
    "    '''\n",
    "    Poblacion = []\n",
    "    Seleccion_funciones = []\n",
    "    Seleccion_Chi = []\n",
    "    Generacion = []\n",
    "    \n",
    "    for n in range(0, num_generaciones):\n",
    "        print('Número de Generación:' +str(n))\n",
    "        if n == 0:\n",
    "\n",
    "            inicio_tiempo = time.time()\n",
    "            P = Creador(num_poblacion_inicial, poblacion_base, operaciones)\n",
    "            tiempo_transcurrido = time.time() - inicio_tiempo\n",
    "            print(f\"Creador tomó {tiempo_transcurrido} segundos en ejecutarse.\")\n",
    "\n",
    "            Poblacion.append(P)\n",
    "\n",
    "            inicio_tiempo = time.time()\n",
    "            S = Seleccionador(Poblacion[n], valores_observados, porcentaje_seleccion)\n",
    "            tiempo_transcurrido = time.time() - inicio_tiempo\n",
    "            print(f\"Seleccionador tomó {tiempo_transcurrido} segundos en ejecutarse.\")\n",
    "\n",
    "            S_f = S[0]\n",
    "            S_Chi = S[1]\n",
    "            Seleccion_funciones.append(S_f)\n",
    "            Seleccion_Chi.append(S_Chi)\n",
    "\n",
    "            inicio_tiempo = time.time()\n",
    "            R = Reproductor(Seleccion_funciones[n], operaciones, porcentaje_combinacion, Seleccion_Chi[n], porcentaje_mutacion, poblacion_base)\n",
    "            tiempo_transcurrido = time.time() - inicio_tiempo\n",
    "            print(f\"Reproductor tomó {tiempo_transcurrido} segundos en ejecutarse.\")\n",
    "\n",
    "            Generacion.append(R)\n",
    "\n",
    "            print('Generación inicial:' + str(Generacion[n]))\n",
    "\n",
    "        else: \n",
    "\n",
    "            inicio_tiempo = time.time()\n",
    "            S = Seleccionador(Generacion[n-1], valores_observados, porcentaje_seleccion)\n",
    "            tiempo_transcurrido = time.time() - inicio_tiempo\n",
    "            print(f\"Seleccionador tomó {tiempo_transcurrido} segundos en ejecutarse.\")\n",
    "\n",
    "            S_f = S[0]\n",
    "            S_Chi = S[1]\n",
    "            Seleccion_funciones.append(S_f)\n",
    "            Seleccion_Chi.append(S_Chi)\n",
    "\n",
    "            if len(Seleccion_funciones[n]) == 1:\n",
    "                print(\"Deteniendo el código porque la generación solo tiene 1 individuo\")\n",
    "                Generacion.append(Seleccion_funciones[n])\n",
    "                break\n",
    "\n",
    "            # Evaluar si todos los elementos de Seleccion_funciones son iguales al final de la iteración\n",
    "            if all(elemento == Seleccion_funciones[n][0] for elemento in Seleccion_funciones[n]):\n",
    "                print(\"Deteniendo el código porque todos los individuos de la generación son iguales al final de la iteración\")\n",
    "                Generacion.append(Seleccion_funciones[n])\n",
    "                break\n",
    "            \n",
    "            inicio_tiempo = time.time()\n",
    "            R = Reproductor(Seleccion_funciones[n], operaciones, porcentaje_combinacion, Seleccion_Chi[n], porcentaje_mutacion, poblacion_base)\n",
    "            tiempo_transcurrido = time.time() - inicio_tiempo\n",
    "            print(f\"Reproductor tomó {tiempo_transcurrido} segundos en ejecutarse.\")\n",
    "            \n",
    "            Generacion.append(R)\n",
    "\n",
    "            print('Nueva Generación:' + str(Generacion[-1]))\n",
    "    \n",
    "    if n == num_generaciones-1:\n",
    "        Generacion[-1] = Simplificador(Generacion[-1])\n",
    "        print('Última Generación (se llegó a la generación pedida): ' + str(Generacion[-1]))\n",
    "\n",
    "    else:\n",
    "        Generacion[-1] = Simplificador(Generacion[-1])\n",
    "        print('Última Generación: ' + str(Generacion[-1]))\n",
    "\n",
    "    return Generacion[-1]"
   ]
  },
  {
   "cell_type": "markdown",
   "metadata": {},
   "source": [
    "## Pruebas del código"
   ]
  },
  {
   "cell_type": "markdown",
   "metadata": {},
   "source": [
    "Tras varios intentos siempre la best fit function termina siendo la identidad. Al graficarla, tengo que multiplicarla por $70$ para que se acerque a los valores de los datos. "
   ]
  },
  {
   "cell_type": "code",
   "execution_count": 680,
   "metadata": {},
   "outputs": [
    {
     "name": "stdout",
     "output_type": "stream",
     "text": [
      "Número de Generación:0\n",
      "Creador tomó 0.019946575164794922 segundos en ejecutarse.\n",
      "Seleccionador tomó 0.09278392791748047 segundos en ejecutarse.\n",
      "Reproductor tomó 0.25328993797302246 segundos en ejecutarse.\n",
      "Generación inicial:[-x*log(x) + x + log(x), 2*x**2 - exp(x), x**3*log(x), -x**2*exp(x) + x**2 - exp(x), x**2*log(x)**2, x*log(x)*log(x*log(x)), x*log(x) - 2*exp(x), 2*x*log(x), x**3*log(x), log(exp(x**2)), 0, x**3*log(x), x*(-x + log(x)), x**4, (1 - x**2)*log(x), x**2*log(x)**2, log(exp(x)), x*(x - log(x)), 0, x*(1 - x), 0, x*(x + log(x)), -exp(x)*log(x) + exp(x) - log(x), x**2, x**2, 2*x, 0, x*log(x), x, x*log(x), x*log(x), x*log(x), x*log(x), log(exp(x)), 0, x**2, x*log(x), x**2, 0, x*log(x), log(exp(x)), x**2, x**2, x, x, 0, x**2, 0]\n",
      "Número de Generación:1\n",
      "Seleccionador tomó 0.021941423416137695 segundos en ejecutarse.\n",
      "Reproductor tomó 0.23540496826171875 segundos en ejecutarse.\n",
      "Nueva Generación:[log(exp(x))**2, log(exp(x**4*log(x)**4)), x**2*log(x)**2, -x**2 + log(exp(x)), x*(x - log(x)) - log(exp(x)), x**2 + log(exp(x)), x**4, x*(x - log(x) + 1), -x + log(exp(x)), x**2 + log(exp(x)), 0, x**2*log(x)**2*log(exp(x)), x**4, x*(x - log(x)), x**2, x**2 - log(exp(x**2)), x**2*log(x)**2, log(exp(x**2)), x**2*log(x)**2, log(exp(x)), x*(x - log(x)), x**2, x**2, x, log(exp(x)), x**2, x**2, log(exp(x)), x**2, x**2, x, x, x**2]\n",
      "Número de Generación:2\n",
      "Seleccionador tomó 0.014214038848876953 segundos en ejecutarse.\n",
      "Reproductor tomó 0.06660008430480957 segundos en ejecutarse.\n",
      "Nueva Generación:[x*(x - log(x)) + log(exp(x)), 0, x + log(exp(x)), log(exp(x)), x*(x - log(x)) + log(exp(x)), x**2*(x - log(x)), log(exp(x)), x*(x - log(x)), log(exp(x)), x*(x - log(x)), x, log(exp(x)), log(exp(x)), x, x]\n",
      "Número de Generación:3\n",
      "Seleccionador tomó 0.009711027145385742 segundos en ejecutarse.\n",
      "Deteniendo el código porque todos los individuos de la generación son iguales al final de la iteración\n",
      "Última Generación: [x, x, x]\n"
     ]
    }
   ],
   "source": [
    "import warnings\n",
    "\n",
    "# Desactivar la advertencia de desbordamiento en potencias\n",
    "warnings.filterwarnings(\"ignore\", category=RuntimeWarning)\n",
    "\n",
    "poblacion_base_borrador = ['x', 'exp(x)', 'log(x)', 'x**2']\n",
    "\n",
    "poblacion_base = ['(1+x)', '(1+x)**2', '(1+x)**3']\n",
    "\n",
    "operaciones = ['*', '+', '-', 'comp'] \n",
    "\n",
    "tercer_intento = GA_2(5, 100, poblacion_base_borrador, operaciones, z, 20, 80, 10)"
   ]
  },
  {
   "cell_type": "code",
   "execution_count": 681,
   "metadata": {},
   "outputs": [
    {
     "name": "stdout",
     "output_type": "stream",
     "text": [
      "[x, x, x]\n"
     ]
    }
   ],
   "source": [
    "# Elegir mejor\n",
    "\n",
    "print(tercer_intento)\n",
    "\n",
    "# Convertir de expresiones sympy a funciones de Python\n",
    "funcion = lambdify(x, tercer_intento[0], 'numpy')\n",
    "\n",
    "evaluada = funcion(z)"
   ]
  },
  {
   "cell_type": "code",
   "execution_count": 682,
   "metadata": {},
   "outputs": [
    {
     "data": {
      "image/png": "[encoded data removed]",
      "text/plain": [
       "<Figure size 640x480 with 1 Axes>"
      ]
     },
     "metadata": {},
     "output_type": "display_data"
    }
   ],
   "source": [
    "# Graficar Resultados\n",
    "\n",
    "plt.plot(z, H, '.', label = 'Datos')\n",
    "plt.plot(z, evaluada*70, label = 'Función encontrada')\n",
    "plt.legend()\n",
    "plt.xlabel('$z$')\n",
    "plt.ylabel('$H(z)$')\n",
    "plt.title('Resultados del GA')\n",
    "plt.grid(True)\n",
    "plt.show()"
   ]
  },
  {
   "cell_type": "code",
   "execution_count": null,
   "metadata": {},
   "outputs": [],
   "source": []
  },
  {
   "cell_type": "code",
   "execution_count": null,
   "metadata": {},
   "outputs": [],
   "source": []
  }
 ],
 "metadata": {
  "kernelspec": {
   "display_name": "Python 3",
   "language": "python",
   "name": "python3"
  },
  "language_info": {
   "codemirror_mode": {
    "name": "ipython",
    "version": 3
   },
   "file_extension": ".py",
   "mimetype": "text/x-python",
   "name": "python",
   "nbconvert_exporter": "python",
   "pygments_lexer": "ipython3",
   "version": "3.11.7"
  }
 },
 "nbformat": 4,
 "nbformat_minor": 2
}
