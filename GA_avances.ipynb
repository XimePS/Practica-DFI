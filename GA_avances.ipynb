{
 "cells": [
  {
   "cell_type": "markdown",
   "metadata": {},
   "source": [
    "Avances hasta ahora: \n",
    "\n",
    "1. Empezamos con una poblacion base de funciones y otra de operaciones\n",
    "2. Se crea la generación 0 combinando estas dos poblaciones bases\n",
    "3. Se seleccionan individuos de la población 0\n",
    "4. Estos se combinan de a pares, de forma tal que al final de la combinación queda el mismo numero de individuos de la poblacion 0\n",
    "5. Se escogen aleatoriamente algunos para mutarlos\n",
    "6. Se crea generación nueva\n",
    "\n",
    "Errores: \n",
    "1. No sé porqué a veces el chi me da un numero imaginario\n",
    "2. Creo que  en el nueva generación debería conservar individuos de la antigua, y que dentro de esta no solo esten los productos de la combinación/mutación\n",
    "\n"
   ]
  },
  {
   "cell_type": "code",
   "execution_count": 1,
   "metadata": {},
   "outputs": [],
   "source": [
    "import numpy as np\n",
    "import matplotlib.pyplot as plt\n",
    "import random\n",
    "from sympy import symbols, sympify, lambdify, compose, I, pi\n",
    "from sympy.abc import x"
   ]
  },
  {
   "cell_type": "code",
   "execution_count": 2,
   "metadata": {},
   "outputs": [],
   "source": [
    "# Extracción de datos\n",
    "\n",
    "columna1 = []\n",
    "columna2 = []\n",
    "columna3 = []\n",
    "\n",
    "with open('c:/Users/ximen/Desktop/Practicas DFI/hub_data_3.txt', 'r') as archivo:\n",
    "    # Lee cada línea del archivo\n",
    "    for linea in archivo: #cada linea es una fila del texto\n",
    "        elementos = linea.split() # divide la línea en sus elementos utilizando espacios como delimitadores\n",
    "        #print(elementos)\n",
    "        columna1.append(elementos[0]) # Agrega cada elemento a su respectiva columna\n",
    "        columna2.append(elementos[1])\n",
    "        columna3.append(elementos[2])\n",
    "\n",
    "z = np.zeros(len(columna1))\n",
    "for i in range(len(columna1)):\n",
    "  z[i] = float(columna1[i])\n",
    "\n",
    "H = np.zeros(len(columna2))\n",
    "for i in range(len(columna2)):\n",
    "  H[i] = float(columna2[i])\n",
    "\n",
    "desv = np.zeros(len(columna3))\n",
    "for i in range(len(columna3)):\n",
    "  desv[i] = float(columna3[i])"
   ]
  },
  {
   "cell_type": "code",
   "execution_count": 3,
   "metadata": {},
   "outputs": [],
   "source": [
    "# POBLACION BASE\n",
    "\n",
    "x = symbols('x')\n",
    "\n",
    "poblacion_base = ['exp(x)', 'log(x)', 'x', 'x**2']\n",
    "\n",
    "operaciones = ['*', '**', '/', '+', '-', 'comp'] # Agregar 'comp' para representar la combinacion"
   ]
  },
  {
   "cell_type": "code",
   "execution_count": 4,
   "metadata": {},
   "outputs": [],
   "source": [
    "def Creador(num_poblacion_inicial, poblacion_base, operaciones):\n",
    "    '''\n",
    "    Creador recibe: \n",
    "    1. El numero de individuos que se desea que tenga la poblacion inicial\n",
    "    2. Una lista con funciones base cuyas combinaciones crearan la poblacion inicial\n",
    "    3. una lista con operaciones que actuarán sobre las funciones al momento de combinarlas\n",
    "    '''\n",
    "    poblacion_inicial= []\n",
    "    for n in range(num_poblacion_inicial):\n",
    "        expresion1 = random.choice(poblacion_base)\n",
    "        expresion2 = random.choice(poblacion_base)\n",
    "        operacion = random.choice(operaciones)\n",
    "        if operacion == 'comp':\n",
    "            # Se pasan a funciones sympy\n",
    "            x = symbols('x')\n",
    "            expresiones = [expresion1, expresion2]\n",
    "            expresiones_sympy = [sympify(exp) for exp in expresiones] \n",
    "            f1 = expresiones_sympy[0]\n",
    "            f2 = expresiones_sympy[1]\n",
    "            # Se componen expresiones\n",
    "            composicion = f1.subs(x, f2)\n",
    "            poblacion_inicial.append(str(composicion))\n",
    "        else: \n",
    "            expresion = f\"{expresion1} {operacion} {expresion2}\"\n",
    "            poblacion_inicial.append(expresion)\n",
    "    return poblacion_inicial"
   ]
  },
  {
   "cell_type": "code",
   "execution_count": 5,
   "metadata": {},
   "outputs": [
    {
     "name": "stdout",
     "output_type": "stream",
     "text": [
      "['exp(x) + x', 'exp(x) + exp(x)', 'exp(x) - x**2', 'exp(x) + x', 'log(x**2)', 'exp(x) / x', 'log(x)**2', 'x ** x', 'x + x', 'x ** x**2']\n"
     ]
    }
   ],
   "source": [
    "# Comprobacion de que creador esta bien\n",
    "\n",
    "poblacion_inicial = Creador(10, poblacion_base, operaciones)\n",
    "\n",
    "print(poblacion_inicial)"
   ]
  },
  {
   "cell_type": "code",
   "execution_count": 6,
   "metadata": {},
   "outputs": [],
   "source": [
    "def Seleccionador(poblacion_inicial, valores_observados, porcentaje_seleccion):\n",
    "    '''\n",
    "    Seleccionador recibe: \n",
    "    1. La poblacion inicial de funciones\n",
    "    2. Los valores observados (que se esperan ajustar a una función)\n",
    "    3. El porcentaje que se quiere de selección\n",
    "    '''\n",
    "    valores_x = valores_observados.tolist()\n",
    "    Chi = np.zeros(len(poblacion_inicial))\n",
    "    x = symbols('x')\n",
    "    expresiones_sympy = [sympify(exp) for exp in poblacion_inicial] \n",
    "    \n",
    "    for n , funcion in enumerate(expresiones_sympy):\n",
    "        f = [funcion.subs(x, valor) for valor in valores_x]\n",
    "        diferencia = [resultado - valor for resultado, valor in zip(z, f)]\n",
    "        chi = np.sum((diferencia/desv)**2)\n",
    "        chi_real, chi_imaginario = expresion = chi.as_real_imag()\n",
    "        Chi[n] = chi_real\n",
    "\n",
    "    seleccion = np.percentile(Chi, porcentaje_seleccion)\n",
    "    seleccionados = Chi[Chi <= seleccion]\n",
    "    indices = np.where(Chi <= seleccion)[0]\n",
    "    funciones_seleccionadas = [poblacion_inicial[i] for i in indices]\n",
    "    return funciones_seleccionadas"
   ]
  },
  {
   "cell_type": "code",
   "execution_count": 7,
   "metadata": {},
   "outputs": [
    {
     "name": "stdout",
     "output_type": "stream",
     "text": [
      "['exp(x) - x**2', 'log(x**2)', 'log(x)**2', 'x ** x', 'x + x']\n"
     ]
    }
   ],
   "source": [
    "# Comprobacion de que Seleccionador esta bien\n",
    "\n",
    "funciones_seleccionadas = Seleccionador(poblacion_inicial, z, 50)\n",
    "print(funciones_seleccionadas)"
   ]
  },
  {
   "cell_type": "code",
   "execution_count": 8,
   "metadata": {},
   "outputs": [],
   "source": [
    "def Combinador(funciones_seleccionadas, operaciones): \n",
    "    \n",
    "    combinados = []\n",
    "    num_combinados = len(funciones_seleccionadas)\n",
    "\n",
    "    for n in range(num_combinados):\n",
    "        indice = random.randint(0, len(funciones_seleccionadas)-1)\n",
    "        expresion1 = funciones_seleccionadas[n]\n",
    "        expresion2 = funciones_seleccionadas[indice]\n",
    "        operacion = random.choice(operaciones)\n",
    "        if operacion == 'comp':\n",
    "            # Se pasan a funciones sympy\n",
    "            x = symbols('x')\n",
    "            expresiones = [expresion1, expresion2]\n",
    "            #print(expresiones)\n",
    "            expresiones_sympy = [sympify(exp) for exp in expresiones] \n",
    "            f1 = expresiones_sympy[0]\n",
    "            #print(f1)\n",
    "            f2 = expresiones_sympy[1]\n",
    "            #print(f2)\n",
    "            # Se componen expresiones\n",
    "            composicion = f1.subs(x, f2)\n",
    "            #print(composicion)\n",
    "            combinados.append(str(composicion))\n",
    "        else: \n",
    "            expresion = f\"{expresion1} {operacion} {expresion2}\"\n",
    "            combinados.append(expresion)\n",
    "\n",
    "    return combinados"
   ]
  },
  {
   "cell_type": "code",
   "execution_count": 9,
   "metadata": {},
   "outputs": [
    {
     "name": "stdout",
     "output_type": "stream",
     "text": [
      "['exp(x) - x**2 / log(x**2)', 'log(x**2) / log(x**2)', 'log(x)**2 ** exp(x) - x**2', 'x ** x ** x + x', 'x + x - log(x)**2']\n",
      "5\n"
     ]
    }
   ],
   "source": [
    "# Comprobacion de que Combinador esta bien\n",
    "\n",
    "funciones_combinadas = Combinador(funciones_seleccionadas, operaciones)\n",
    "print(funciones_combinadas)\n",
    "print(len(funciones_combinadas))"
   ]
  },
  {
   "cell_type": "code",
   "execution_count": 10,
   "metadata": {},
   "outputs": [],
   "source": [
    "def Mutador(porcentaje_mutacion, funciones_combinadas, poblacion_base, operaciones):\n",
    "    num_mutacion = int(len(funciones_combinadas)*(porcentaje_mutacion/100))\n",
    "    \n",
    "    mutaciones = []\n",
    "    funciones_a_mutar = []\n",
    "\n",
    "    for n in range(0, num_mutacion): # range no cuenta el ultimo elemento\n",
    "        if n == 0:\n",
    "            expresion1 = random.choice(funciones_combinadas)\n",
    "            funciones_a_mutar.append(expresion1)\n",
    "        else:\n",
    "            expresion1 = random.choice(funciones_combinadas)\n",
    "            while expresion1 in funciones_a_mutar:\n",
    "                expresion1 = random.choice(funciones_combinadas)\n",
    "            funciones_a_mutar.append(expresion1)\n",
    "\n",
    "        indices = [i for i, elem in enumerate(funciones_combinadas) if elem in funciones_a_mutar]\n",
    "\n",
    "        expresion2 = random.choice(poblacion_base)\n",
    "\n",
    "        operacion = random.choice(operaciones)\n",
    "\n",
    "        if operacion == 'comp':\n",
    "            x = symbols('x')\n",
    "            expresiones = [expresion1, expresion2]\n",
    "            expresiones_sympy = [sympify(exp) for exp in expresiones] \n",
    "            f1 = expresiones_sympy[0]\n",
    "            f2 = expresiones_sympy[1]\n",
    "            # Se componen expresiones\n",
    "            composicion = f1.subs(x, f2)\n",
    "            mutaciones.append(str(composicion))\n",
    "        else: \n",
    "            expresion = f\"({expresion1}) {operacion} {expresion2}\"\n",
    "            mutaciones.append(expresion)\n",
    "\n",
    "    return mutaciones, indices"
   ]
  },
  {
   "cell_type": "code",
   "execution_count": 11,
   "metadata": {},
   "outputs": [
    {
     "name": "stdout",
     "output_type": "stream",
     "text": [
      "['1', '(x ** x ** x + x) - exp(x)']\n",
      "[1, 3]\n"
     ]
    }
   ],
   "source": [
    "# Comprobacion de que Mutador esta bien\n",
    "\n",
    "funciones_mutadas, indices = Mutador(50, funciones_combinadas, poblacion_base, operaciones)\n",
    "\n",
    "print(funciones_mutadas)\n",
    "print(indices)"
   ]
  },
  {
   "cell_type": "code",
   "execution_count": 12,
   "metadata": {},
   "outputs": [],
   "source": [
    "def Nueva_Generacion(funciones_combinadas, mutaciones, indices):\n",
    "    nueva_generacion = []\n",
    "\n",
    "    i = 0\n",
    "    for n in range(0, len(funciones_combinadas)):\n",
    "        if n in indices:\n",
    "            nueva_generacion.append(mutaciones[i])\n",
    "            i += 1\n",
    "        else:\n",
    "            nueva_generacion.append(funciones_combinadas[n])\n",
    "    \n",
    "    return nueva_generacion"
   ]
  },
  {
   "cell_type": "code",
   "execution_count": 13,
   "metadata": {},
   "outputs": [
    {
     "name": "stdout",
     "output_type": "stream",
     "text": [
      "['exp(x) - x**2 / log(x**2)', '1', 'log(x)**2 ** exp(x) - x**2', '(x ** x ** x + x) - exp(x)', 'x + x - log(x)**2']\n",
      "5\n"
     ]
    }
   ],
   "source": [
    "# Comprobar si Nueva_Generacion está bien\n",
    "\n",
    "A = Nueva_Generacion(funciones_combinadas, funciones_mutadas, indices)\n",
    "\n",
    "print(A)\n",
    "print(len(A))"
   ]
  },
  {
   "cell_type": "code",
   "execution_count": null,
   "metadata": {},
   "outputs": [],
   "source": []
  }
 ],
 "metadata": {
  "kernelspec": {
   "display_name": "Python 3",
   "language": "python",
   "name": "python3"
  },
  "language_info": {
   "codemirror_mode": {
    "name": "ipython",
    "version": 3
   },
   "file_extension": ".py",
   "mimetype": "text/x-python",
   "name": "python",
   "nbconvert_exporter": "python",
   "pygments_lexer": "ipython3",
   "version": "3.11.7"
  }
 },
 "nbformat": 4,
 "nbformat_minor": 2
}
