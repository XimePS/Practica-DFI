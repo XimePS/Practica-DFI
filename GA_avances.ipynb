{
 "cells": [
  {
   "cell_type": "markdown",
   "metadata": {},
   "source": [
    "# Algoritmo Genético para calcular el parámetro de Hubble $H(z)$"
   ]
  },
  {
   "cell_type": "markdown",
   "metadata": {},
   "source": [
    "Avances hasta ahora: \n",
    "\n",
    "1. Empezamos con una poblacion base de funciones y otra de operaciones\n",
    "2. Se crea la generación 0 combinando estas dos poblaciones bases\n",
    "3. Se seleccionan individuos de la población 0 a partir del valor de su $\\Chi^2$\n",
    "4. Estos se combinan de a pares, de forma tal que al final de la combinación queda el mismo numero de individuos de la poblacion 0\n",
    "5. Se escogen aleatoriamente algunos para mutarlos\n",
    "6. Se crea generación nueva\n",
    "\n",
    "Errores: \n",
    "1. No sé porqué a veces el chi me da un numero imaginario\n",
    "2. Creo que  en el nueva generación debería conservar individuos de la antigua, y que dentro de esta no solo esten los productos de la combinación/mutación -> quizá conservar en cada iteración a las funciones con menor chi, y a las con menor combinarlas entre ellas. \n",
    "\n",
    "Falta: \n",
    "1. Conservar algunos individuos de la generacion anterior"
   ]
  },
  {
   "cell_type": "code",
   "execution_count": 1208,
   "metadata": {},
   "outputs": [],
   "source": [
    "import numpy as np\n",
    "import matplotlib.pyplot as plt\n",
    "import random\n",
    "from sympy import symbols, sympify, lambdify, compose, I, pi, log, exp\n",
    "from sympy.abc import x"
   ]
  },
  {
   "cell_type": "code",
   "execution_count": 1209,
   "metadata": {},
   "outputs": [],
   "source": [
    "# Extracción de datos\n",
    "\n",
    "columna1 = []\n",
    "columna2 = []\n",
    "columna3 = []\n",
    "\n",
    "with open('c:/Users/ximen/Desktop/Practicas DFI/hub_data_3.txt', 'r') as archivo:\n",
    "    # Lee cada línea del archivo\n",
    "    for linea in archivo: #cada linea es una fila del texto\n",
    "        elementos = linea.split() # divide la línea en sus elementos utilizando espacios como delimitadores\n",
    "        #print(elementos)\n",
    "        columna1.append(elementos[0]) # Agrega cada elemento a su respectiva columna\n",
    "        columna2.append(elementos[1])\n",
    "        columna3.append(elementos[2])\n",
    "\n",
    "z = np.zeros(len(columna1))\n",
    "for i in range(len(columna1)):\n",
    "  z[i] = float(columna1[i])\n",
    "\n",
    "H = np.zeros(len(columna2))\n",
    "for i in range(len(columna2)):\n",
    "  H[i] = float(columna2[i])\n",
    "\n",
    "desv = np.zeros(len(columna3))\n",
    "for i in range(len(columna3)):\n",
    "  desv[i] = float(columna3[i])"
   ]
  },
  {
   "cell_type": "code",
   "execution_count": 1210,
   "metadata": {},
   "outputs": [],
   "source": [
    "def Simplificador(poblacion):\n",
    "    x = symbols('x')\n",
    "    expresiones_simplificadas = [simplify(expresion) for expresion in poblacion]\n",
    "    return expresiones_simplificadas"
   ]
  },
  {
   "cell_type": "code",
   "execution_count": 1211,
   "metadata": {},
   "outputs": [],
   "source": [
    "# POBLACION BASE\n",
    "\n",
    "x = symbols('x')\n",
    "\n",
    "poblacion_base = ['exp(x)', 'log(x)', 'x', 'x**2']\n",
    "\n",
    "operaciones = ['*', '**', '/', '+', '-', 'comp'] # Agregar 'comp' para representar la combinacion"
   ]
  },
  {
   "cell_type": "code",
   "execution_count": 1212,
   "metadata": {},
   "outputs": [],
   "source": [
    "def Creador(num_poblacion_inicial, poblacion_base, operaciones):\n",
    "    '''\n",
    "    Creador recibe: \n",
    "    1. El numero de individuos que se desea que tenga la poblacion inicial\n",
    "    2. Una lista con funciones base cuyas combinaciones crearan la poblacion inicial\n",
    "    3. una lista con operaciones que actuarán sobre las funciones al momento de combinarlas\n",
    "    '''\n",
    "    poblacion_inicial= []\n",
    "    for n in range(num_poblacion_inicial):\n",
    "        expresion1 = random.choice(poblacion_base)\n",
    "        expresion2 = random.choice(poblacion_base)\n",
    "        operacion = random.choice(operaciones)\n",
    "        if operacion == 'comp':\n",
    "            # Se pasan a funciones sympy\n",
    "            x = symbols('x')\n",
    "            expresiones = [expresion1, expresion2]\n",
    "            expresiones_sympy = [sympify(exp) for exp in expresiones] \n",
    "            f1 = expresiones_sympy[0]\n",
    "            f2 = expresiones_sympy[1]\n",
    "            # Se componen expresiones\n",
    "            composicion = f1.subs(x, f2)\n",
    "            poblacion_inicial.append(str(composicion))\n",
    "        else: \n",
    "            expresion = f\"{expresion1} {operacion} {expresion2}\"\n",
    "            poblacion_inicial.append(expresion)\n",
    "            \n",
    "    #poblacion_inicial = Simplificador(poblacion_inicial)\n",
    "    return poblacion_inicial"
   ]
  },
  {
   "cell_type": "code",
   "execution_count": 1213,
   "metadata": {},
   "outputs": [
    {
     "name": "stdout",
     "output_type": "stream",
     "text": [
      "['x**2 ** x**2', 'x**2 + log(x)', 'exp(x) - x', 'log(x) ** exp(x)', 'x**2', 'log(x) + log(x)', 'log(x) ** x', 'x / x**2', 'log(x**2)', 'exp(x) - x']\n"
     ]
    }
   ],
   "source": [
    "# Comprobacion de que creador esta bien\n",
    "\n",
    "poblacion_inicial = Creador(10, poblacion_base, operaciones)\n",
    "\n",
    "print(poblacion_inicial)"
   ]
  },
  {
   "cell_type": "code",
   "execution_count": 1214,
   "metadata": {},
   "outputs": [],
   "source": [
    "def Seleccionador(poblacion_inicial, valores_observados, porcentaje_seleccion):\n",
    "    '''\n",
    "    Seleccionador recibe: \n",
    "    1. La poblacion inicial de funciones\n",
    "    2. Los valores observados (que se esperan ajustar a una función)\n",
    "    3. El porcentaje que se quiere de selección\n",
    "    '''\n",
    "    valores_x = valores_observados.tolist()\n",
    "    Chi = np.zeros(len(poblacion_inicial))\n",
    "    x = symbols('x')\n",
    "    expresiones_sympy = [sympify(exp) for exp in poblacion_inicial] \n",
    "    \n",
    "    for n , funcion in enumerate(expresiones_sympy):\n",
    "        f = [funcion.subs(x, valor) for valor in valores_x]\n",
    "        diferencia = [resultado - valor for resultado, valor in zip(z, f)]\n",
    "        chi = np.sum((diferencia/desv)**2)\n",
    "        chi_real, chi_imaginario = expresion = chi.as_real_imag()\n",
    "        Chi[n] = chi_real\n",
    "\n",
    "    seleccion = np.percentile(Chi, porcentaje_seleccion)\n",
    "    seleccionados = Chi[Chi <= seleccion]\n",
    "    indices = np.where(Chi <= seleccion)[0]\n",
    "    funciones_seleccionadas = [poblacion_inicial[i] for i in indices]\n",
    "\n",
    "    return funciones_seleccionadas, seleccionados"
   ]
  },
  {
   "cell_type": "code",
   "execution_count": 1242,
   "metadata": {},
   "outputs": [
    {
     "name": "stdout",
     "output_type": "stream",
     "text": [
      "['exp(x) - x', 'log(x) ** exp(x)', 'x**2', 'log(x) ** x', 'exp(x) - x']\n",
      "[0.89573385 0.37618183 0.22510911 0.1026423  0.89573385]\n",
      "<class 'numpy.float64'>\n"
     ]
    }
   ],
   "source": [
    "# Comprobacion de que Seleccionador esta bien\n",
    "\n",
    "A = Seleccionador(poblacion_inicial, z, 50)\n",
    "funciones_seleccionadas = A[0]\n",
    "print(funciones_seleccionadas)\n",
    "\n",
    "Chi_seleccionados = A[1]\n",
    "print(Chi_seleccionados)\n",
    "print(type(Chi_seleccionados[0]))"
   ]
  },
  {
   "cell_type": "code",
   "execution_count": 1261,
   "metadata": {},
   "outputs": [],
   "source": [
    "def Reproductor(funciones_seleccionadas, operaciones, porcentaje_combinacion, Chi_seleccionados, porcentaje_mutacion): \n",
    "\n",
    "    #elegir el 20% con menor chi de los seleccionados\n",
    "    mejor_seleccion = np.percentile(Chi_seleccionados, int(100 - porcentaje_combinacion)) \n",
    "    mejores_chi = Chi_seleccionados[Chi_seleccionados <= mejor_seleccion]\n",
    "    mejores_indices = np.where(Chi_seleccionados <= mejor_seleccion)[0]\n",
    "    mejores_funciones = [funciones_seleccionadas[i] for i in mejores_indices]\n",
    "        \n",
    "    combinados = []\n",
    "    num_combinados = int(len(funciones_seleccionadas)*(porcentaje_combinacion/100))\n",
    "    funciones_a_combinar = np.delete(funciones_seleccionadas, mejores_indices)\n",
    "\n",
    "    for n in range(0, len(funciones_a_combinar)):\n",
    "\n",
    "        # Se eligen padres tal que sean funciones diferentes siempre\n",
    "        expresion1 = funciones_a_combinar[n]\n",
    "        indice = random.randint(0, len(funciones_a_combinar)-1)\n",
    "        while indice == n:\n",
    "            indice = random.randint(0, len(funciones_a_combinar)-1)\n",
    "        expresion2 = funciones_a_combinar[indice]\n",
    "\n",
    "        # Se elige operacion que los combinará\n",
    "        operacion = random.choice(operaciones)\n",
    "        if operacion == 'comp':\n",
    "            # Se pasan a funciones sympy\n",
    "            x = symbols('x')\n",
    "            expresiones = [expresion1, expresion2]\n",
    "            expresiones_sympy = [sympify(exp) for exp in expresiones] \n",
    "            f1 = expresiones_sympy[0]\n",
    "            f2 = expresiones_sympy[1]\n",
    "            composicion = f1.subs(x, f2)\n",
    "            combinados.append(str(composicion))\n",
    "        else: \n",
    "            expresion = f\"{expresion1} {operacion} {expresion2}\"\n",
    "            combinados.append(expresion)\n",
    "\n",
    "    # Se transforma combinados a numpy array\n",
    "    combinados = np.array(combinados)\n",
    "\n",
    "    # Empieza mutacion\n",
    "    num_mutacion = int(len(combinados)*(porcentaje_mutacion/100))\n",
    "\n",
    "    mutaciones = []\n",
    "    funciones_a_mutar = []\n",
    "\n",
    "    # Se eligen (dentro de combinados) funciones a mutar tal que no sean iguales entre si\n",
    "    for n in range(0, num_mutacion): \n",
    "        if n == 0:\n",
    "            expresion1 = random.choice(combinados)\n",
    "            funciones_a_mutar.append(expresion1)\n",
    "        else:\n",
    "            expresion1 = random.choice(combinados)\n",
    "            while expresion1 in funciones_a_mutar:\n",
    "                expresion1 = random.choice(combinados)\n",
    "            funciones_a_mutar.append(expresion1)\n",
    "\n",
    "        # Se elige una funcion base y una operacion base para mutar ###QUIZA ESTO SE TENGA QUE OPTIMIZAR###\n",
    "        expresion2 = random.choice(poblacion_base)\n",
    "        operacion = random.choice(operaciones)\n",
    "\n",
    "        if operacion == 'comp':\n",
    "            x = symbols('x')\n",
    "            expresiones = [expresion1, expresion2]\n",
    "            expresiones_sympy = [sympify(exp) for exp in expresiones] \n",
    "            f1 = expresiones_sympy[0]\n",
    "            f2 = expresiones_sympy[1]\n",
    "            # Se componen expresiones\n",
    "            composicion = f1.subs(x, f2)\n",
    "            mutaciones.append(str(composicion))\n",
    "        else: \n",
    "            expresion = f\"({expresion1}) {operacion} {expresion2}\"\n",
    "            mutaciones.append(expresion)\n",
    "            \n",
    "    # Agrega los combinados que no fueron mutados y las mejores funciones seleccionadas al inicio\n",
    "            \n",
    "    indices_no_mutados = np.array([i for i, elem in enumerate(combinados) if elem not in funciones_a_mutar])\n",
    "    funciones_sin_mutar = combinados[indices_no_mutados]\n",
    "    funciones_sin_mutar = funciones_sin_mutar.tolist()\n",
    "    \n",
    "    mutaciones += funciones_sin_mutar + mejores_funciones\n",
    "\n",
    "    nueva_generacion = Simplificador(mutaciones)\n",
    "\n",
    "    return nueva_generacion"
   ]
  },
  {
   "cell_type": "code",
   "execution_count": 1262,
   "metadata": {},
   "outputs": [
    {
     "name": "stdout",
     "output_type": "stream",
     "text": [
      "[x**2*(-x*exp(x) - x + exp(x)), x**2 - x + exp(x), -x + exp(-x)*log(x)**exp(x), x**2 - x + exp(x), log(x)**x]\n"
     ]
    }
   ],
   "source": [
    "# Comprobacion de que reproductor esta bien\n",
    "\n",
    "nueva_generacion = Reproductor(funciones_seleccionadas, operaciones, 80, Chi_seleccionados, 25)\n",
    "\n",
    "print(nueva_generacion)"
   ]
  },
  {
   "cell_type": "markdown",
   "metadata": {},
   "source": [
    "### Tercera prueba de GA\n",
    "\n",
    "Pros: \n",
    "\n",
    "1. Mantiene siempre constante el tamaño de las generaciones -> era la idea pero ahora ya no lo hace desde que inventé reproductor\n",
    "\n",
    "Contras: \n",
    "\n",
    "1. Se debe elegir inteligentemente los porcentajes de seleccion, combinacion y mutacion para que las listas no queden vacias"
   ]
  },
  {
   "cell_type": "code",
   "execution_count": 1268,
   "metadata": {},
   "outputs": [],
   "source": [
    "def GA_2(num_generaciones, num_poblacion_inicial, poblacion_base, operaciones, valores_observados, porcentaje_seleccion, porcentaje_combinacion, porcentaje_mutacion):\n",
    "\n",
    "    #num_seleccion = int(num_poblacion_inicial*(porcentaje_seleccion/100))\n",
    "    Poblacion = []\n",
    "    Seleccion_funciones = []\n",
    "    Seleccion_Chi = []\n",
    "    Generacion = []\n",
    "    \n",
    "    for n in range(0, num_generaciones):\n",
    "        print(n)\n",
    "        if n == 0:\n",
    "            P = Creador(num_poblacion_inicial, poblacion_base, operaciones)\n",
    "            Poblacion.append(P)\n",
    "\n",
    "            S = Seleccionador(Poblacion[n], valores_observados, porcentaje_seleccion)\n",
    "            S_f = S[0]\n",
    "            S_Chi = S[1]\n",
    "            Seleccion_funciones.append(S_f)\n",
    "            Seleccion_Chi.append(S_Chi)\n",
    "\n",
    "            R = Reproductor(Seleccion_funciones[n], operaciones, porcentaje_combinacion, Seleccion_Chi[n], porcentaje_mutacion)\n",
    "\n",
    "            Generacion.append(R)\n",
    "\n",
    "            print(Generacion[n])\n",
    "\n",
    "        else: \n",
    "\n",
    "            S = Seleccionador(Generacion[n-1], valores_observados, porcentaje_seleccion)\n",
    "            S_f = S[0]\n",
    "            S_Chi = S[1]\n",
    "            Seleccion_funciones.append(S_f)\n",
    "            Seleccion_Chi.append(S_Chi)\n",
    "\n",
    "            R = Reproductor(Seleccion_funciones[n], operaciones, porcentaje_combinacion, Seleccion_Chi[n], porcentaje_mutacion)\n",
    "            \n",
    "            Generacion.append(R)\n",
    "\n",
    "            print(Generacion[n])\n",
    "    \n",
    "    Generacion[n] = Simplificador(Generacion[n])\n",
    "\n",
    "    return Generacion[-1]"
   ]
  },
  {
   "cell_type": "code",
   "execution_count": 1270,
   "metadata": {},
   "outputs": [
    {
     "name": "stdout",
     "output_type": "stream",
     "text": [
      "0\n",
      "[-x - 1/x**2, ((1 - x**6)/x**2)**x, x**2*(x**2 - x + 2), x**15, x**3, x**4 - x, x**4, 0, x, x*(x - 1)]\n",
      "1\n",
      "[x*(x**2 - x + 2), (x - 1)/x**2, 0, 0**x*(x - 1), ((1 - x**6)/x**2)**x]\n",
      "2\n",
      "[0, -1, ((1 - x**6)/x**2)**x]\n"
     ]
    }
   ],
   "source": [
    "poblacion_base = ['x**3', 'x**4', 'x', 'x**2']\n",
    "\n",
    "operaciones = ['*', '**', '/', '+', '-', 'comp'] \n",
    "\n",
    "tercer_intento = GA_2(3, 20, poblacion_base, operaciones, z, 50, 80, 50)"
   ]
  },
  {
   "cell_type": "markdown",
   "metadata": {},
   "source": [
    "## Falta: \n",
    "\n",
    "1. Mantener el numero de la poblacion constante\n",
    "\n",
    "2. Crear un método para que, dentro de la población final, se encuentre al individuo con menor $\\Chi^2$"
   ]
  },
  {
   "cell_type": "markdown",
   "metadata": {},
   "source": [
    "# Leer hasta aquí. Luego: Primer y Segundo Intento de GA"
   ]
  },
  {
   "cell_type": "code",
   "execution_count": 1193,
   "metadata": {},
   "outputs": [],
   "source": [
    "def Combinador(funciones_seleccionadas, operaciones, porcentaje_combinacion, Chi_seleccionados): \n",
    "\n",
    "    #elegir el 20% con menor chi de los seleccionados\n",
    "    mejor_seleccion = np.percentile(Chi_seleccionados, int(100 - porcentaje_combinacion)) \n",
    "    mejores_chi = Chi_seleccionados[Chi_seleccionados <= mejor_seleccion]\n",
    "    mejores_indices = np.where(Chi_seleccionados <= mejor_seleccion)[0]\n",
    "    mejores_funciones = [funciones_seleccionadas[i] for i in mejores_indices]\n",
    "        \n",
    "    combinados = mejores_funciones\n",
    "    num_combinados = int(len(funciones_seleccionadas)*(porcentaje_combinacion/100))\n",
    "    indices_que_no = mejores_indices\n",
    "    funciones_a_combinar = np.delete(funciones_seleccionadas, indices_que_no)\n",
    "\n",
    "    for n in range(0, len(funciones_a_combinar)):\n",
    "        indice = random.randint(0, len(funciones_a_combinar)-1)\n",
    "        expresion1 = funciones_a_combinar[n]\n",
    "        expresion2 = funciones_a_combinar[indice]\n",
    "        operacion = random.choice(operaciones)\n",
    "        if operacion == 'comp':\n",
    "            # Se pasan a funciones sympy\n",
    "            x = symbols('x')\n",
    "            expresiones = [expresion1, expresion2]\n",
    "            #print(expresiones)\n",
    "            expresiones_sympy = [sympify(exp) for exp in expresiones] \n",
    "            f1 = expresiones_sympy[0]\n",
    "            #print(f1)\n",
    "            f2 = expresiones_sympy[1]\n",
    "            #print(f2)\n",
    "            # Se componen expresiones\n",
    "            composicion = f1.subs(x, f2)\n",
    "            #print(composicion)\n",
    "            combinados.append(str(composicion))\n",
    "        else: \n",
    "            expresion = f\"{expresion1} {operacion} {expresion2}\"\n",
    "            combinados.append(expresion)\n",
    "\n",
    "    return combinados"
   ]
  },
  {
   "cell_type": "code",
   "execution_count": 1194,
   "metadata": {},
   "outputs": [
    {
     "name": "stdout",
     "output_type": "stream",
     "text": [
      "['log(log(x))', 'log(x) ** x * exp(x) ** log(x)', 'log(x)**(2*x)', 'x * x + exp(x) ** log(x)', 'exp(x) ** log(x) - log(x) ** x']\n",
      "5\n"
     ]
    }
   ],
   "source": [
    "# Comprobacion de que Combinador esta bien\n",
    "\n",
    "funciones_combinadas = Combinador(funciones_seleccionadas, operaciones, 80, Chi_seleccionados)\n",
    "print(funciones_combinadas)\n",
    "print(len(funciones_combinadas))"
   ]
  },
  {
   "cell_type": "code",
   "execution_count": 1195,
   "metadata": {},
   "outputs": [],
   "source": [
    "def Mutador(porcentaje_mutacion, funciones_combinadas, poblacion_base, operaciones):\n",
    "    '''\n",
    "    Seleccionador recibe: \n",
    "    1. Porcentaje que se desea de mutación\n",
    "    2. Funciones anteriormente combinadas\n",
    "    3. Población base de funciones\n",
    "\n",
    "    Selecciona a un porcentaje de la poblacion de funciones combinadas \n",
    "    y les agrega una operacion base y una expresion tambien de la poblacion base\n",
    "\n",
    "    Devuelve expresiones mutadas y sus respectivos indices en la lista de funciones combinadas\n",
    "    '''\n",
    "    num_mutacion = int(len(funciones_combinadas)*(porcentaje_mutacion/100))\n",
    "    mutaciones = []\n",
    "    funciones_a_mutar = []\n",
    "\n",
    "    for n in range(0, num_mutacion): # range no cuenta el ultimo elemento\n",
    "        if n == 0:\n",
    "            expresion1 = random.choice(funciones_combinadas)\n",
    "            funciones_a_mutar.append(expresion1)\n",
    "        else:\n",
    "            expresion1 = random.choice(funciones_combinadas)\n",
    "            while expresion1 in funciones_a_mutar:\n",
    "                expresion1 = random.choice(funciones_combinadas)\n",
    "            funciones_a_mutar.append(expresion1)\n",
    "\n",
    "        expresion2 = random.choice(poblacion_base)\n",
    "\n",
    "        operacion = random.choice(operaciones)\n",
    "\n",
    "        if operacion == 'comp':\n",
    "            x = symbols('x')\n",
    "            expresiones = [expresion1, expresion2]\n",
    "            expresiones_sympy = [sympify(exp) for exp in expresiones] \n",
    "            f1 = expresiones_sympy[0]\n",
    "            f2 = expresiones_sympy[1]\n",
    "            # Se componen expresiones\n",
    "            composicion = f1.subs(x, f2)\n",
    "            mutaciones.append(str(composicion))\n",
    "        else: \n",
    "            expresion = f\"({expresion1}) {operacion} {expresion2}\"\n",
    "            mutaciones.append(expresion)\n",
    "            \n",
    "    #mutaciones = Simplificador(mutaciones)\n",
    "    indices = [i for i, elem in enumerate(funciones_combinadas) if elem in funciones_a_mutar]\n",
    "\n",
    "    return mutaciones, indices"
   ]
  },
  {
   "cell_type": "code",
   "execution_count": 1196,
   "metadata": {},
   "outputs": [
    {
     "name": "stdout",
     "output_type": "stream",
     "text": [
      "['(log(x) ** x * exp(x) ** log(x)) - exp(x)', '(x * x + exp(x) ** log(x)) / exp(x)']\n",
      "[1, 3]\n"
     ]
    }
   ],
   "source": [
    "# Comprobacion de que Mutador esta bien\n",
    "\n",
    "funciones_mutadas, indices = Mutador(50, funciones_combinadas, poblacion_base, operaciones)\n",
    "\n",
    "print(funciones_mutadas)\n",
    "print(indices)"
   ]
  },
  {
   "cell_type": "code",
   "execution_count": 1197,
   "metadata": {},
   "outputs": [],
   "source": [
    "def Nueva_Generacion(funciones_combinadas, mutaciones, indices):\n",
    "    nueva_generacion = []\n",
    "\n",
    "    i = 0\n",
    "    for n in range(0, len(funciones_combinadas)):\n",
    "        if n in indices:\n",
    "            nueva_generacion.append(mutaciones[i])\n",
    "            i += 1\n",
    "        else:\n",
    "            nueva_generacion.append(funciones_combinadas[n])\n",
    "    \n",
    "    nueva_generacion = Simplificador(nueva_generacion)\n",
    "    \n",
    "    return nueva_generacion"
   ]
  },
  {
   "cell_type": "code",
   "execution_count": 1198,
   "metadata": {},
   "outputs": [
    {
     "name": "stdout",
     "output_type": "stream",
     "text": [
      "[log(log(x)), -exp(x) + exp(x)**log(x)*log(x)**x, log(x)**(2*x), (x**2 + exp(x)**log(x))*exp(-x), exp(x)**log(x) - log(x)**x]\n",
      "5\n"
     ]
    }
   ],
   "source": [
    "# Comprobar si Nueva_Generacion está bien\n",
    "\n",
    "A = Nueva_Generacion(funciones_combinadas, funciones_mutadas, indices)\n",
    "\n",
    "print(A)\n",
    "print(len(A))"
   ]
  },
  {
   "cell_type": "markdown",
   "metadata": {},
   "source": [
    "## Prueba 1 de código"
   ]
  },
  {
   "cell_type": "markdown",
   "metadata": {},
   "source": [
    "Se van a procesar 30 generaciones para al final ver que función, en la décima generación, tiene el menor Chi^2."
   ]
  },
  {
   "cell_type": "code",
   "execution_count": 1199,
   "metadata": {},
   "outputs": [],
   "source": [
    "def GA(num_generaciones, num_poblacion_inicial, población_base, operaciones, valores_observados, porcentaje_seleccion, porcentaje_combinacion, porcentaje_mutacion):\n",
    "\n",
    "    num_seleccion = int(num_poblacion_inicial*(porcentaje_seleccion/100))\n",
    "    num_mutacion = int(num_seleccion*(porcentaje_mutacion/100))\n",
    "    Poblacion = []\n",
    "    Seleccion_funciones = []\n",
    "    Seleccion_Chi = []\n",
    "    Combinacion = []\n",
    "    Mutacion_funciones = []\n",
    "    Mutacion_indices = []\n",
    "    Generacion = []\n",
    "    \n",
    "    for n in range(0, num_generaciones):\n",
    "        print(n)\n",
    "        if n == 0:\n",
    "            P = Creador(num_poblacion_inicial, poblacion_base, operaciones)\n",
    "            Poblacion.append(P)\n",
    "\n",
    "            S = Seleccionador(Poblacion[n], valores_observados, porcentaje_seleccion)\n",
    "            S_f = S[0]\n",
    "            S_Chi = S[1]\n",
    "            Seleccion_funciones.append(S_f)\n",
    "            Seleccion_Chi.append(S_Chi)\n",
    "\n",
    "            C = Combinador(Seleccion_funciones[n], operaciones, porcentaje_combinacion, Seleccion_Chi[n])\n",
    "            Combinacion.append(C)\n",
    "\n",
    "            Mutacion = Mutador(porcentaje_mutacion, Combinacion[n], poblacion_base, operaciones)\n",
    "            M_f = Mutacion[0]\n",
    "            M_i = Mutacion[1]\n",
    "            Mutacion_funciones.append(M_f)\n",
    "            Mutacion_indices.append(M_i)\n",
    "\n",
    "            N_G = Nueva_Generacion(Combinacion[n], Mutacion_funciones[n], Mutacion_indices[n])\n",
    "            Generacion.append(N_G)\n",
    "            print(Generacion)\n",
    "        else: \n",
    "            S = Seleccionador(Generacion[n-1], valores_observados, porcentaje_seleccion)\n",
    "            S_f = S[0]\n",
    "            S_Chi = S[1]\n",
    "            Seleccion_funciones.append(S_f)\n",
    "            Seleccion_Chi.append(S_Chi)\n",
    "\n",
    "            C = Combinador(Seleccion_funciones[n], operaciones, porcentaje_combinacion, Seleccion_Chi[n]) \n",
    "            Combinacion.append(C)\n",
    "\n",
    "            Mutacion = Mutador(porcentaje_mutacion, Combinacion[n], poblacion_base, operaciones)\n",
    "            M_f = Mutacion[0]\n",
    "            M_i = Mutacion[1]\n",
    "            Mutacion_funciones.append(M_f)\n",
    "            Mutacion_indices.append(M_i)\n",
    "\n",
    "            N_G = Nueva_Generacion(Combinacion[n], Mutacion_funciones[n], Mutacion_indices[n])\n",
    "            Generacion.append(N_G)\n",
    "            print(Generacion)\n",
    "    \n",
    "    Generacion[n] = Simplificador(Generacion[n])\n",
    "    return Generacion[n]"
   ]
  },
  {
   "cell_type": "code",
   "execution_count": 1200,
   "metadata": {},
   "outputs": [
    {
     "name": "stdout",
     "output_type": "stream",
     "text": [
      "0\n"
     ]
    },
    {
     "name": "stdout",
     "output_type": "stream",
     "text": [
      "[[x, x, log(x)**log(x), x, x, x, x, log(x)**log(x), log(log(x)), log(x)**log(x), x, x**2 + 1, (x**2/exp(x)**(x**(2**log(x))))**x, x**3*exp(-x), x**4 - exp(x), x**(2**log(x)) + 1, x*exp(-x) - 1, x**2 + x**2*exp(-x), x*exp(-x) + 1, x**4*exp(-x), 0, x**2*(exp(-1)*log(x))**x, x**(x**2 + 1)*exp(-x), x**(2**log(x))*exp(-2*x)]]\n",
      "1\n",
      "[[x, x, log(x)**log(x), x, x, x, x, log(x)**log(x), log(log(x)), log(x)**log(x), x, x**2 + 1, (x**2/exp(x)**(x**(2**log(x))))**x, x**3*exp(-x), x**4 - exp(x), x**(2**log(x)) + 1, x*exp(-x) - 1, x**2 + x**2*exp(-x), x*exp(-x) + 1, x**4*exp(-x), 0, x**2*(exp(-1)*log(x))**x, x**(x**2 + 1)*exp(-x), x**(2**log(x))*exp(-2*x)], [log(x)**log(x), log(x)**log(x), log(log(x)), log(x)**log(x), x, 1, x**2, 1, 2*x, 2*x, x + x**x]]\n",
      "2\n",
      "[[x, x, log(x)**log(x), x, x, x, x, log(x)**log(x), log(log(x)), log(x)**log(x), x, x**2 + 1, (x**2/exp(x)**(x**(2**log(x))))**x, x**3*exp(-x), x**4 - exp(x), x**(2**log(x)) + 1, x*exp(-x) - 1, x**2 + x**2*exp(-x), x*exp(-x) + 1, x**4*exp(-x), 0, x**2*(exp(-1)*log(x))**x, x**(x**2 + 1)*exp(-x), x**(2**log(x))*exp(-2*x)], [log(x)**log(x), log(x)**log(x), log(log(x)), log(x)**log(x), x, 1, x**2, 1, 2*x, 2*x, x + x**x], [log(log(x)), 0, log(log(x)**log(x))**log(log(x)**log(x)), log(x)**(2*log(x))]]\n"
     ]
    }
   ],
   "source": [
    "primer_intento = GA(3, 100, ['x**3', 'x**4', '(x+1)', 'x**2'], ['*', '**', '/', '+', '-', 'comp'], z, 20, 80, 10)"
   ]
  },
  {
   "cell_type": "code",
   "execution_count": 1201,
   "metadata": {},
   "outputs": [
    {
     "name": "stdout",
     "output_type": "stream",
     "text": [
      "[log(log(x)), 0, log(log(x)**log(x))**log(log(x)**log(x)), log(x)**(2*log(x))]\n"
     ]
    }
   ],
   "source": [
    "A = primer_intento\n",
    "print(primer_intento)"
   ]
  },
  {
   "cell_type": "markdown",
   "metadata": {},
   "source": [
    "### Veamos cual es la mejor funcion entre las funciones que entregó al final de la selección\n"
   ]
  },
  {
   "cell_type": "code",
   "execution_count": 1202,
   "metadata": {},
   "outputs": [
    {
     "name": "stdout",
     "output_type": "stream",
     "text": [
      "[log(log(x))]\n"
     ]
    }
   ],
   "source": [
    "porcentaje_final = 100 / len(primer_intento)\n",
    "#print(primer_intento)\n",
    "\n",
    "best_fit = Seleccionador(A, z, porcentaje_final)[0]\n",
    "print(best_fit)\n"
   ]
  },
  {
   "cell_type": "markdown",
   "metadata": {},
   "source": [
    "## La convertimos en una función tipo numpy"
   ]
  },
  {
   "cell_type": "code",
   "execution_count": 1203,
   "metadata": {},
   "outputs": [],
   "source": [
    "# Convertir de expresiones sympy a funciones de Python\n",
    "funciones_python = [lambdify(x, expresion, 'numpy') for expresion in best_fit]\n",
    "\n",
    "best_fit_python = funciones_python[0]"
   ]
  },
  {
   "cell_type": "markdown",
   "metadata": {},
   "source": [
    "## Vamos a graficarla con respecto a los datos"
   ]
  },
  {
   "cell_type": "code",
   "execution_count": 1204,
   "metadata": {},
   "outputs": [
    {
     "name": "stderr",
     "output_type": "stream",
     "text": [
      "<lambdifygenerated-62>:2: RuntimeWarning: invalid value encountered in log\n",
      "  return log(log(x))\n"
     ]
    },
    {
     "data": {
      "image/png": "[encoded data removed]",
      "text/plain": [
       "<Figure size 640x480 with 1 Axes>"
      ]
     },
     "metadata": {},
     "output_type": "display_data"
    }
   ],
   "source": [
    "plt.plot(z, H, '.', label = 'Datos')\n",
    "plt.plot(z, best_fit_python(z), label = 'Función encontrada')\n",
    "plt.legend()\n",
    "plt.xlabel('$z$')\n",
    "plt.ylabel('$H(z)$')\n",
    "plt.title('Resultados del GA')\n",
    "plt.show()"
   ]
  }
 ],
 "metadata": {
  "kernelspec": {
   "display_name": "Python 3",
   "language": "python",
   "name": "python3"
  },
  "language_info": {
   "codemirror_mode": {
    "name": "ipython",
    "version": 3
   },
   "file_extension": ".py",
   "mimetype": "text/x-python",
   "name": "python",
   "nbconvert_exporter": "python",
   "pygments_lexer": "ipython3",
   "version": "3.11.7"
  }
 },
 "nbformat": 4,
 "nbformat_minor": 2
}
