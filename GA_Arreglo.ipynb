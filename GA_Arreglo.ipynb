{
 "cells": [
  {
   "cell_type": "code",
   "execution_count": 152,
   "metadata": {},
   "outputs": [],
   "source": [
    "import numpy as np\n",
    "import matplotlib.pyplot as plt\n",
    "import random\n",
    "from sympy import symbols, sympify, lambdify, compose, I, pi, log, exp, simplify\n",
    "from sympy.abc import x\n",
    "import time\n",
    "from statistics import mean\n"
   ]
  },
  {
   "cell_type": "code",
   "execution_count": 153,
   "metadata": {},
   "outputs": [],
   "source": [
    "# Extracción de datos\n",
    "\n",
    "columna1 = []\n",
    "columna2 = []\n",
    "columna3 = []\n",
    "\n",
    "with open('c:/Users/ximen/Desktop/Practicas DFI/hub_data_3.txt', 'r') as archivo:\n",
    "    # Lee cada línea del archivo\n",
    "    for linea in archivo: #cada linea es una fila del texto\n",
    "        elementos = linea.split() # divide la línea en sus elementos utilizando espacios como delimitadores\n",
    "        #print(elementos)\n",
    "        columna1.append(elementos[0]) # Agrega cada elemento a su respectiva columna\n",
    "        columna2.append(elementos[1])\n",
    "        columna3.append(elementos[2])\n",
    "\n",
    "z = np.zeros(len(columna1))\n",
    "for i in range(len(columna1)):\n",
    "  z[i] = float(columna1[i])\n",
    "\n",
    "H = np.zeros(len(columna2))\n",
    "for i in range(len(columna2)):\n",
    "  H[i] = float(columna2[i])\n",
    "\n",
    "desv = np.zeros(len(columna3))\n",
    "for i in range(len(columna3)):\n",
    "  desv[i] = float(columna3[i])"
   ]
  },
  {
   "cell_type": "code",
   "execution_count": 154,
   "metadata": {},
   "outputs": [],
   "source": [
    "poblacion_base = ['(x+1)', 'x**x', '0.5']\n",
    "\n",
    "operaciones_base = ['*', '+', '-', 'comp']"
   ]
  },
  {
   "cell_type": "code",
   "execution_count": 155,
   "metadata": {},
   "outputs": [],
   "source": [
    "def Creador(num_poblacion_inicial, poblacion_base, operaciones):\n",
    "    '''\n",
    "    Creador recibe: \n",
    "    1. El numero de individuos que se desea que tenga la poblacion inicial\n",
    "    2. Una lista con funciones base cuyas combinaciones crearan la poblacion inicial\n",
    "    3. una lista con operaciones que actuarán sobre las funciones al momento de combinarlas\n",
    "    '''\n",
    "    poblacion_inicial= []\n",
    "    for n in range(num_poblacion_inicial):\n",
    "        expresion1 = random.choice(poblacion_base)\n",
    "        expresion2 = random.choice(poblacion_base)\n",
    "        operacion = random.choice(operaciones)\n",
    "        if operacion == 'comp':\n",
    "            # Se pasan a funciones sympy\n",
    "            x = symbols('x')\n",
    "            expresiones = [expresion1, expresion2]\n",
    "            expresiones_sympy = [sympify(exp) for exp in expresiones] \n",
    "            f1 = expresiones_sympy[0]\n",
    "            f2 = expresiones_sympy[1]\n",
    "            # Se componen expresiones\n",
    "            composicion = f1.subs(x, f2)\n",
    "            poblacion_inicial.append(str(composicion))\n",
    "        else: \n",
    "            expresion = f\"{expresion1} {operacion} {expresion2}\"\n",
    "            poblacion_inicial.append(expresion)\n",
    "            \n",
    "    return poblacion_inicial"
   ]
  },
  {
   "cell_type": "code",
   "execution_count": 156,
   "metadata": {},
   "outputs": [],
   "source": [
    "A = Creador(20, poblacion_base, operaciones_base)"
   ]
  },
  {
   "cell_type": "code",
   "execution_count": 157,
   "metadata": {},
   "outputs": [],
   "source": [
    "def Calculador_Chi(poblacion_inicial, valores_observados, H, desv):\n",
    "    Chi = []\n",
    "    x = symbols('x', real=True)\n",
    "    expresiones_sympy = [sympify(exp) for exp in poblacion_inicial]\n",
    "    funciones_python = [lambdify(x, expresion, 'numpy') for expresion in expresiones_sympy]\n",
    "\n",
    "    for funcion in funciones_python:\n",
    "        f = funcion(valores_observados)\n",
    "        chi_value = np.sum(((f - H) / desv) ** 2)\n",
    "        Chi.append(chi_value)\n",
    "\n",
    "    return np.array(Chi)"
   ]
  },
  {
   "cell_type": "markdown",
   "metadata": {},
   "source": [
    "def Calculador_Chi (poblacion_inicial, valores_observados, H, desv):\n",
    "    Chi = []\n",
    "    x = symbols('x', real = True)\n",
    "    expresiones_sympy = [sympify(exp) for exp in poblacion_inicial]\n",
    "\n",
    "    for n in range(0, len(expresiones_sympy)):\n",
    "        expr1 = expresiones_sympy[n]\n",
    "        f = np.array([expr1.subs(x, valor) for valor in valores_observados])\n",
    "        Chi.append(np.sum(((f - H)/desv)**2))\n",
    "\n",
    "    return np.array(Chi)\n"
   ]
  },
  {
   "cell_type": "code",
   "execution_count": 158,
   "metadata": {},
   "outputs": [
    {
     "name": "stdout",
     "output_type": "stream",
     "text": [
      "[4295.51783627 4255.31169824 4106.37809527 4314.6775362  4356.22576219\n",
      " 4213.29253111 3898.33954897 4306.79563341 4116.42734998 4376.56806252\n",
      " 4173.33557645 4293.84439062 4213.29253111 4319.16881538 4074.8969936\n",
      " 4293.84439062 4392.75381498 4074.8969936  4356.22576219 4356.22576219]\n"
     ]
    }
   ],
   "source": [
    "B = Calculador_Chi(A, z, H, desv)\n",
    "\n",
    "print(B)"
   ]
  },
  {
   "cell_type": "code",
   "execution_count": 159,
   "metadata": {},
   "outputs": [],
   "source": [
    "def Seleccionador(poblacion_inicial, Chi, porcentaje_seleccion):\n",
    "\n",
    "    porcentaje_seleccion = float(porcentaje_seleccion)\n",
    "    seleccion = np.percentile(Chi, porcentaje_seleccion)\n",
    "\n",
    "    print('Los chi son: ' + str(Chi))\n",
    "    print('El chi menor fue: ' + str(min(Chi)))\n",
    "    print('El chi MAYOR fue: ' + str(max(Chi)))\n",
    "    print('La seleccion fue: ' + str(seleccion))\n",
    "\n",
    "    Chi_seleccionados = Chi[Chi <= seleccion]\n",
    "    indices = np.where(Chi <= seleccion)[0]\n",
    "    funciones_seleccionadas = [poblacion_inicial[i] for i in range(len(Chi)) if Chi[i] <= seleccion]\n",
    "\n",
    "    combined_data = list(zip(Chi_seleccionados, funciones_seleccionadas))\n",
    "\n",
    "    # Ordena la lista combinada por los elementos de x\n",
    "    sorted_combined_data = sorted(combined_data, key=lambda pair: pair[0])\n",
    "\n",
    "    # Desempaqueta los resultados ordenados\n",
    "    Chis, funciones = zip(*sorted_combined_data)\n",
    "\n",
    "    Chis = list(Chis)\n",
    "    print(Chis)\n",
    "    Funciones_seleccionadas = list(funciones)\n",
    "\n",
    "    return Funciones_seleccionadas"
   ]
  },
  {
   "cell_type": "code",
   "execution_count": 160,
   "metadata": {},
   "outputs": [
    {
     "name": "stdout",
     "output_type": "stream",
     "text": [
      "Los chi son: [4295.51783627 4255.31169824 4106.37809527 4314.6775362  4356.22576219\n",
      " 4213.29253111 3898.33954897 4306.79563341 4116.42734998 4376.56806252\n",
      " 4173.33557645 4293.84439062 4213.29253111 4319.16881538 4074.8969936\n",
      " 4293.84439062 4392.75381498 4074.8969936  4356.22576219 4356.22576219]\n",
      "El chi menor fue: 3898.3395489737327\n",
      "El chi MAYOR fue: 4392.7538149843485\n",
      "La seleccion fue: 4114.417499042499\n",
      "[3898.3395489737327, 4074.8969935952446, 4074.8969935952446, 4106.378095273011]\n",
      "['x**x * x**x', 'x**x * (x+1)', 'x**x * (x+1)', '(x+1) * (x+1)']\n",
      "4\n"
     ]
    }
   ],
   "source": [
    "C = Seleccionador(A, B, 20)\n",
    "\n",
    "print(C)\n",
    "\n",
    "print(len(C))"
   ]
  },
  {
   "cell_type": "code",
   "execution_count": 161,
   "metadata": {},
   "outputs": [],
   "source": [
    "def Reproductor(Funciones_seleccionadas, porcentaje_mutacion, poblacion_base, operaciones): \n",
    "\n",
    "    combinados = []\n",
    "    funciones_a_combinar = Funciones_seleccionadas\n",
    "\n",
    "    for n in range(0, len(funciones_a_combinar)):\n",
    "        expresion1 = funciones_a_combinar[n]\n",
    "        expresion2 = random.choice(funciones_a_combinar)\n",
    "        expresion3 = random.choice(funciones_a_combinar)\n",
    "        expresion4 = random.choice(funciones_a_combinar)\n",
    "        expresion5 = random.choice(funciones_a_combinar)\n",
    "\n",
    "        operacion = random.choice(operaciones)\n",
    "        operacion2 = random.choice(operaciones[0:-2])\n",
    "        operacion3 = random.choice(operaciones[0:-2])\n",
    "        operacion4 = random.choice(operaciones[0:-2])\n",
    "\n",
    "        if operacion == 'comp':\n",
    "            # Se pasan a funciones sympy\n",
    "            x = symbols('x')\n",
    "            expresiones = [expresion1, expresion2]\n",
    "            expresiones_sympy = [sympify(exp) for exp in expresiones] \n",
    "            f1 = expresiones_sympy[0]\n",
    "            f2 = expresiones_sympy[1]\n",
    "            composicion = f1.subs(x, f2)\n",
    "            combinados.append(str(composicion))\n",
    "        else: \n",
    "            hijo1 = f\"{expresion1} {operacion} {expresion2}\"\n",
    "            combinados.append(hijo1)\n",
    "        \n",
    "        hijo2 = f\"{expresion1} {operacion2} {expresion3}\"\n",
    "        combinados.append(hijo2)\n",
    "        hijo3 = f\"{expresion1} {operacion3} {expresion4}\"\n",
    "        combinados.append(hijo3)\n",
    "        hijo4 = f\"{expresion1} {operacion3} {expresion5}\"\n",
    "        combinados.append(hijo4)\n",
    "\n",
    "\n",
    "    combinados = np.array(combinados)\n",
    "\n",
    "    # EMPIEZA MUTACION\n",
    "    num_mutacion = int(len(combinados)*(porcentaje_mutacion/100))\n",
    "    funciones_a_mutar = []\n",
    "    mutaciones = []\n",
    "\n",
    "    for n in range(0, num_mutacion): \n",
    "        if n == 0:\n",
    "            expresion_m = random.choice(combinados)\n",
    "            funciones_a_mutar.append(expresion_m)\n",
    "        else:\n",
    "            expresion_m = random.choice(combinados)\n",
    "            while expresion_m in funciones_a_mutar:\n",
    "                expresion_m = random.choice(combinados)\n",
    "            funciones_a_mutar.append(expresion_m)\n",
    "\n",
    "        operacion = random.choice(operaciones)\n",
    "        expresion2 = random.choice(poblacion_base)\n",
    "\n",
    "        if operacion == 'comp':\n",
    "            x = symbols('x')\n",
    "            expresiones = [expresion_m, expresion2]\n",
    "            expresiones_sympy = [sympify(exp) for exp in expresiones] \n",
    "            f1 = expresiones_sympy[0]\n",
    "            f2 = expresiones_sympy[1]\n",
    "            # Se componen expresiones\n",
    "            composicion = f1.subs(x, f2)\n",
    "            mutaciones.append(str(composicion))\n",
    "        else: \n",
    "            expresion = f\"{expresion_m} {operacion} {expresion2}\"\n",
    "            mutaciones.append(expresion)\n",
    "\n",
    "    indices_no_mutados = np.array([i for i, elem in enumerate(combinados) if elem not in funciones_a_mutar])\n",
    "    funciones_sin_mutar = combinados[indices_no_mutados]\n",
    "    funciones_sin_mutar = funciones_sin_mutar.tolist()\n",
    "    mutaciones += funciones_sin_mutar \n",
    "\n",
    "    print(type(mutaciones))\n",
    "\n",
    "    return mutaciones"
   ]
  },
  {
   "cell_type": "code",
   "execution_count": 162,
   "metadata": {},
   "outputs": [
    {
     "name": "stdout",
     "output_type": "stream",
     "text": [
      "<class 'list'>\n",
      "['(x+1) * (x+1) + x**x * (x+1) - x**x', 'x**x * (x+1) + x**x * x**x - x**x', '2*(x**x + 1)*(x**x)**(x**x)', '(x**x + 1)**3*(x**x)**(x**x)', '(x+1) * (x+1) + (x+1) * (x+1) - (x+1)', 'x**x * (x+1) * x**x * x**x - (x+1)', 'x**x * x**x + x**x * (x+1) - x**x', '(x+1) * (x+1) * x**x * x**x * (x+1)', 'x**x * x**x - x**x * x**x', 'x**x * x**x * (x+1) * (x+1)', 'x**x * x**x + (x+1) * (x+1)', 'x**x * (x+1) - x**x * (x+1)', 'x**x * (x+1) + (x+1) * (x+1)']\n",
      "13\n"
     ]
    }
   ],
   "source": [
    "D = Reproductor(C, 50, poblacion_base, operaciones_base)\n",
    "\n",
    "print(D)\n",
    "\n",
    "print(len(D))"
   ]
  },
  {
   "cell_type": "code",
   "execution_count": 163,
   "metadata": {},
   "outputs": [],
   "source": [
    "def GA_2(num_generaciones, num_poblacion_inicial, operaciones, poblacion_base, porcentaje_seleccion, porcentaje_mutacion, z, H, desv):\n",
    "    \n",
    "    Poblacion = []\n",
    "    Seleccion_funciones = []\n",
    "    Seleccion_Chi = []\n",
    "    Generacion = []\n",
    "    \n",
    "    for n in range(0, num_generaciones):\n",
    "        print('Número de Generación:' +str(n))\n",
    "        if n == 0:\n",
    "\n",
    "            inicio_tiempo = time.time()\n",
    "            P = Creador(num_poblacion_inicial, poblacion_base, operaciones)\n",
    "            tiempo_transcurrido = time.time() - inicio_tiempo\n",
    "            print(f\"Creador tomó {tiempo_transcurrido} segundos en ejecutarse.\")\n",
    "\n",
    "            Poblacion.append(P)\n",
    "\n",
    "            inicio_tiempo = time.time()\n",
    "            R = Reproductor(Poblacion[n], porcentaje_mutacion, poblacion_base, operaciones)\n",
    "            tiempo_transcurrido = time.time() - inicio_tiempo\n",
    "            print(f\"Reproductor tomó {tiempo_transcurrido} segundos en ejecutarse.\")\n",
    "\n",
    "            Chi = Calculador_Chi(R, z, H, desv)\n",
    "\n",
    "            inicio_tiempo = time.time()\n",
    "            S = Seleccionador(R, Chi, porcentaje_seleccion)\n",
    "            tiempo_transcurrido = time.time() - inicio_tiempo\n",
    "            print(f\"Seleccionador tomó {tiempo_transcurrido} segundos en ejecutarse.\")\n",
    "\n",
    "            Generacion.append(S)\n",
    "\n",
    "            print('Generación inicial:' + str(Generacion[n]))\n",
    "            print('LONGITUD GENERACION INCIAL: ' + str(len(Poblacion[0])))\n",
    "\n",
    "        else: \n",
    "\n",
    "            inicio_tiempo = time.time()\n",
    "            R = Reproductor(Generacion[n-1], porcentaje_mutacion, poblacion_base, operaciones)\n",
    "            tiempo_transcurrido = time.time() - inicio_tiempo\n",
    "            print(f\"Reproductor tomó {tiempo_transcurrido} segundos en ejecutarse.\")\n",
    "            \n",
    "            Chi = Calculador_Chi(R, z, H, desv)\n",
    "\n",
    "            inicio_tiempo = time.time()\n",
    "            S = Seleccionador(R, Chi, porcentaje_seleccion)\n",
    "            tiempo_transcurrido = time.time() - inicio_tiempo\n",
    "            print(f\"Seleccionador tomó {tiempo_transcurrido} segundos en ejecutarse.\")\n",
    "            \n",
    "            Generacion.append(S)\n",
    "\n",
    "            #print('Nueva Generación:' + str(Generacion[-1]))\n",
    "            print('LONGITUD GENERACION: ' + str(len(Generacion[-1])))\n",
    "    \n",
    "    if n == num_generaciones-1:\n",
    "        Generacion[-1] = (Generacion[-1])\n",
    "        print('Última Generación (se llegó a la generación pedida): ' + str(Generacion[-1]))\n",
    "\n",
    "    else:\n",
    "        Generacion[-1] = (Generacion[-1])\n",
    "        print('Última Generación: ' + str(Generacion[-1]))\n",
    "\n",
    "    return Generacion[-1]"
   ]
  },
  {
   "cell_type": "markdown",
   "metadata": {},
   "source": [
    "### Prueba de Código"
   ]
  },
  {
   "cell_type": "code",
   "execution_count": 164,
   "metadata": {},
   "outputs": [],
   "source": [
    "poblacion_base = ['(x+1)', 'x**x', '0.5', '0.6']\n",
    "\n",
    "operaciones_base = ['*', '+', '-', 'comp']"
   ]
  },
  {
   "cell_type": "code",
   "execution_count": 165,
   "metadata": {},
   "outputs": [
    {
     "name": "stdout",
     "output_type": "stream",
     "text": [
      "Número de Generación:0\n",
      "Creador tomó 0.001994609832763672 segundos en ejecutarse.\n",
      "<class 'list'>\n",
      "Reproductor tomó 0.0049860477447509766 segundos en ejecutarse.\n",
      "Los chi son: [4.36116023e+03 4.11253872e+03 4.11964179e+03 4.27235486e+03\n",
      " 4.66248183e+03 4.35529071e+03 4.03523848e+03 4.25346214e+03\n",
      " 4.18466263e+03 4.18466263e+03 3.51944295e+03 4.29551784e+03\n",
      " 4.13359127e+03 4.13359127e+03 3.99579262e+03 4.27427701e+03\n",
      " 4.15298317e+03 4.29551784e+03 3.92073105e+03 4.33443930e+03\n",
      " 4.37656806e+03 4.23307320e+03 4.15298317e+03 4.08283757e+03\n",
      " 3.92073105e+03 3.95892132e+03 4.13339432e+03 3.79907299e+03\n",
      " 3.92073105e+03 7.77326446e+68 3.68396311e+03 4.10346405e+03\n",
      " 3.35425453e+03 4.37656806e+03 4.34553841e+03 4.25346214e+03\n",
      " 4.15298317e+03 4.52496621e+03 4.78363831e+03 4.37973263e+03]\n",
      "El chi menor fue: 3354.2545320962568\n",
      "El chi MAYOR fue: 7.773264456014955e+68\n",
      "La seleccion fue: 3988.4183577882723\n",
      "[3354.2545320962568, 3519.4429460043884, 3683.963106378955, 3799.072990460501, 3920.7310478176737, 3920.7310478176737, 3920.7310478176737, 3958.9213233757555]\n",
      "Seleccionador tomó 0.0 segundos en ejecutarse.\n",
      "Generación inicial:['x**x * (x+1) * x**x - 0.5', 'x**x + (x+1) * x**x * (x+1)', 'x**x * (x+1) * 0.5 * x**x', 'x**x * (x+1) + x**x * (x+1)', '0.5 + x**x + x**x * (x+1)', '0.5 + x**x + x**x * (x+1)', 'x**x * (x+1) + 0.5 + x**x', '0.5 + x**x + x**x + (x+1)']\n",
      "LONGITUD GENERACION INCIAL: 10\n",
      "Número de Generación:1\n",
      "<class 'list'>\n",
      "Reproductor tomó 0.02849435806274414 segundos en ejecutarse.\n",
      "Los chi son: [3.61627577e+03 3.59614518e+03 4.02382405e+03            inf\n",
      " 3.14724439e+03 3.14724439e+03 3.13498447e+03 3.26021730e+03\n",
      " 3.50097325e+03 3.50097325e+03 7.37789233e+03            inf\n",
      " 3.31185666e+03 3.33550287e+03 3.15333863e+03 1.75776394e+48\n",
      " 3.41314928e+03 3.42561658e+03 3.28638526e+03 3.36200410e+03\n",
      " 3.34723327e+03 8.19912451e+04 3.51279709e+03 3.13498447e+03\n",
      " 3.51279709e+03 3.51279709e+03 3.60184393e+03 3.06494042e+03\n",
      " 3.34723327e+03 3.53478580e+03 3.17743306e+03 3.42561658e+03]\n",
      "El chi menor fue: 3064.9404247420275\n",
      "El chi MAYOR fue: inf\n",
      "La seleccion fue: 3193.9899060763923\n",
      "[3064.9404247420275, 3134.9844739701552, 3134.9844739701552, 3147.2443943266862, 3147.2443943266862, 3153.3386254207967, 3177.4330586562155]\n",
      "Seleccionador tomó 0.0011279582977294922 segundos en ejecutarse.\n",
      "LONGITUD GENERACION: 7\n",
      "Número de Generación:2\n",
      "<class 'list'>\n",
      "Reproductor tomó 0.04672837257385254 segundos en ejecutarse.\n",
      "Los chi son: [4.07805496e+03 4.30923515e+06            inf 3.39475909e+03\n",
      " 3.59377120e+03 3.71099634e+03 3.71099634e+03 3.83892364e+04\n",
      " 3.83892364e+04            inf 2.97466295e+03 2.87801925e+03\n",
      " 2.87801925e+03 3.86273203e+03 4.36014539e+06 4.36014539e+06\n",
      " 9.64173651e+04 3.26021730e+03 3.02156972e+03 4.21267917e+03\n",
      " 3.88285922e+03 3.39716937e+03 3.88285922e+03 3.45496222e+03\n",
      "            inf 2.85386723e+03 2.48581825e+03 2.87801925e+03]\n",
      "El chi menor fue: 2485.8182468849313\n",
      "El chi MAYOR fue: inf\n",
      "La seleccion fue: 2993.4256623387773\n",
      "[2485.8182468849313, 2853.8672289989313, 2878.0192523653122, 2878.0192523653122, 2878.0192523653122, 2974.6629543045174]\n",
      "Seleccionador tomó 0.0 segundos en ejecutarse.\n",
      "LONGITUD GENERACION: 6\n",
      "Número de Generación:3\n",
      "<class 'list'>\n",
      "Reproductor tomó 0.044374704360961914 segundos en ejecutarse.\n"
     ]
    },
    {
     "name": "stdout",
     "output_type": "stream",
     "text": [
      "Los chi son: [5.83973206e+25 3.80944886e+03 2.77481222e+03 2.62514920e+03\n",
      " 3.88664939e+03 3.88664939e+03            inf 5.01452207e+03\n",
      " 5.01452207e+03 5.01452207e+03 4.25242931e+03 3.88664939e+03\n",
      " 4.25242931e+03 5.05852459e+03 3.88664939e+03 3.48182735e+03\n",
      " 4.51216232e+03 4.25242931e+03 5.59913410e+03 5.59913410e+03\n",
      " 5.59913410e+03 3.86546472e+03 3.40465152e+03 4.25242931e+03]\n",
      "El chi menor fue: 2625.1491996255454\n",
      "El chi MAYOR fue: inf\n",
      "La seleccion fue: 3843.05837444143\n",
      "[2625.1491996255454, 2774.8122151071457, 3404.6515229531424, 3481.8273513938357, 3809.4488607675707]\n",
      "Seleccionador tomó 0.0 segundos en ejecutarse.\n",
      "LONGITUD GENERACION: 5\n",
      "Última Generación (se llegó a la generación pedida): ['0.5 + x**x + x**x + (x+1) + x**x + (x+1) * x**x * (x+1) + 0.5 + x**x + x**x + (x+1) + x**x + (x+1) * x**x * (x+1) + 0.5 + x**x + x**x + (x+1) + x**x + (x+1) * x**x * (x+1) + 0.5 + x**x + x**x + (x+1) + x**x + (x+1) * x**x * (x+1)', '0.5 + x**x + x**x + (x+1) + x**x + (x+1) * x**x * (x+1) + 0.5 + x**x + x**x + (x+1) + x**x + (x+1) * x**x * (x+1) * 0.5 + x**x + x**x * (x+1) + x**x * (x+1) * x**x - 0.5 * x**x * (x+1) * x**x - 0.5 + x**x + (x+1) * x**x * (x+1)', '0.5 + x**x + x**x * (x+1) + x**x * (x+1) * x**x - 0.5 * x**x * (x+1) * x**x - 0.5 + x**x + (x+1) * x**x * (x+1) + 0.5 + x**x + x**x * (x+1) + x**x * (x+1) * x**x - 0.5 * x**x * (x+1) * x**x - 0.5 + x**x + (x+1) * x**x * (x+1)', '0.5 + x**x + x**x * (x+1) + x**x * (x+1) * x**x - 0.5 + 0.5 + x**x + x**x + (x+1) + x**x + (x+1) * x**x * (x+1) * 0.5 + x**x + x**x + (x+1) + x**x + (x+1) * x**x * (x+1) + 0.5 + x**x + x**x + (x+1) + x**x + (x+1) * x**x * (x+1)', '0.5 + x**x + x**x * (x+1) + x**x * (x+1) * x**x - 0.5 * x**x * (x+1) * x**x - 0.5 + x**x + (x+1) * x**x * (x+1) + 0.5 + x**x + x**x + (x+1) + x**x + (x+1) * x**x * (x+1) * 0.5 + x**x + x**x * (x+1) + x**x * (x+1) * x**x - 0.5 + (x+1)']\n"
     ]
    }
   ],
   "source": [
    "import warnings\n",
    "\n",
    "# Desactivar la advertencia de desbordamiento en potencias\n",
    "warnings.filterwarnings(\"ignore\", category=RuntimeWarning)\n",
    "\n",
    "GA = GA_2(4, 10, operaciones_base, poblacion_base, 20, 10, z, H, desv)"
   ]
  },
  {
   "cell_type": "code",
   "execution_count": 168,
   "metadata": {},
   "outputs": [
    {
     "name": "stdout",
     "output_type": "stream",
     "text": [
      "['0.5 + x**x + x**x + (x+1) + x**x + (x+1) * x**x * (x+1) + 0.5 + x**x + x**x + (x+1) + x**x + (x+1) * x**x * (x+1) + 0.5 + x**x + x**x + (x+1) + x**x + (x+1) * x**x * (x+1) + 0.5 + x**x + x**x + (x+1) + x**x + (x+1) * x**x * (x+1)']\n",
      "1\n"
     ]
    }
   ],
   "source": [
    "Chi = np.zeros(len(GA))\n",
    "x = symbols('x')\n",
    "expresiones_sympy = [sympify(exp) for exp in GA]\n",
    "\n",
    "funciones_evaluadas = [lambdify(x, expr, 'numpy') for expr in expresiones_sympy]\n",
    "valores_x_np = np.array(z)\n",
    "H_np = np.array(H)\n",
    "desv_np = np.array(desv)\n",
    "\n",
    "for n, funcion_evaluada in enumerate(funciones_evaluadas):\n",
    "    f = funcion_evaluada(valores_x_np)\n",
    "    diferencia = (H_np - f)\n",
    "    chi = np.sum((diferencia/desv_np)**2)\n",
    "    Chi[n] = chi\n",
    "seleccion = min(Chi)\n",
    "seleccionados = Chi[Chi == seleccion]\n",
    "indices = np.where(Chi == seleccion)[0]\n",
    "funciones_seleccionadas = [GA[i] for i in indices]\n",
    "\n",
    "print(funciones_seleccionadas)\n",
    "print(len(funciones_seleccionadas))\n",
    "\n",
    "funcion = lambdify(x, funciones_seleccionadas[0], 'numpy')\n",
    "\n",
    "evaluada = funcion(z)"
   ]
  },
  {
   "cell_type": "code",
   "execution_count": 169,
   "metadata": {},
   "outputs": [
    {
     "data": {
      "image/png": "[encoded data removed]",
      "text/plain": [
       "<Figure size 640x480 with 1 Axes>"
      ]
     },
     "metadata": {},
     "output_type": "display_data"
    }
   ],
   "source": [
    "def H_bm(z, Omega_r, Omega_m, Omega_lambda, omega_DE, Omega_0): \n",
    "    return H_0*np.sqrt((Omega_r*(1+z)**(3*(1 + 1/3)) + Omega_m*(1+z)**3 + Omega_lambda*(1+z)**(3*(1+omega_DE)) + (1-Omega_0)*(1+z)**2))\n",
    "\n",
    "H_0 = 70\n",
    "O_r = 8.4*10**(-5)\n",
    "O_m = 0.3\n",
    "O_lambda = 0.7 - 8.4*10**(-5)\n",
    "o_DE = -1\n",
    "O_0 = [0.5, 1, 1.5]\n",
    "\n",
    "# Se crea un arreglo de z para la función teórica\n",
    "z_bu = np.linspace(0, 2.5, 100)\n",
    "\n",
    "# hub_data_3.txt\n",
    "H_teorico_plano = H_bm(z_bu,O_r, O_m, O_lambda, o_DE, O_0[1])\n",
    "H_teorico_cerrado = H_bm(z_bu,O_r, O_m, O_lambda, o_DE, O_0[2])\n",
    "H_teorico_abierto = H_bm(z_bu,O_r, O_m, O_lambda, o_DE, O_0[0])\n",
    "\n",
    "plt.plot(z_bu, H_teorico_cerrado, label = 'Función teórica para $K = 1$ (cerrado)')\n",
    "plt.plot(z_bu, H_teorico_plano, label = 'Función teórica para $K = 0$ (plano)')\n",
    "plt.plot(z_bu, H_teorico_abierto, label = 'Función teórica para $K = -1$ (abierto)')\n",
    "\n",
    "\n",
    "plt.plot(z, H, '.', label = 'Datos')\n",
    "plt.plot(z, evaluada, label = 'Función encontrada')\n",
    "plt.legend()\n",
    "plt.xlabel('$z$')\n",
    "plt.ylabel('$H(z)$')\n",
    "plt.title('Resultados del GA')\n",
    "plt.grid(True)\n",
    "plt.show()"
   ]
  },
  {
   "cell_type": "code",
   "execution_count": null,
   "metadata": {},
   "outputs": [],
   "source": []
  },
  {
   "cell_type": "code",
   "execution_count": null,
   "metadata": {},
   "outputs": [],
   "source": []
  }
 ],
 "metadata": {
  "kernelspec": {
   "display_name": "Python 3",
   "language": "python",
   "name": "python3"
  },
  "language_info": {
   "codemirror_mode": {
    "name": "ipython",
    "version": 3
   },
   "file_extension": ".py",
   "mimetype": "text/x-python",
   "name": "python",
   "nbconvert_exporter": "python",
   "pygments_lexer": "ipython3",
   "version": "3.11.7"
  }
 },
 "nbformat": 4,
 "nbformat_minor": 2
}
