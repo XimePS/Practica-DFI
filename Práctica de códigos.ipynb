{
 "cells": [
  {
   "cell_type": "code",
   "execution_count": 3,
   "metadata": {},
   "outputs": [
    {
     "name": "stdout",
     "output_type": "stream",
     "text": [
      "Array grande: [6 2 9 2 5 0 3 4 7 0 6 4 2 0 1 5 3 2 1 2 8 2 7 4 3 0 7 1 4 7 7 6 6 9 9 4 9\n",
      " 7 9 3 1 4 5 4 1 1 5 3 9 6 0 4 2 3 5 9 3 3 1 0 4 0 2 3 7 9 1 3 3 3 4 1 6 2\n",
      " 1 5 6 2 5 0 3 0 8 1 5 2 1 3 9 7 1 6 1 3 6 6 0 6 1 3]\n",
      "Nuevo array: [6 2 9 2]\n",
      "0\n"
     ]
    }
   ],
   "source": [
    "import numpy as np\n",
    "import random\n",
    "\n",
    "# Tu array de tamaño 100\n",
    "array_grande = np.random.randint(0, 10, size=100)\n",
    "\n",
    "# El array que contiene [0, 1, 2, 3]\n",
    "indices_a_seleccionar = [0, 1, 2, 3]\n",
    "nuevo_array = array_grande[indices_a_seleccionar]\n",
    "\n",
    "print(\"Array grande:\", array_grande)\n",
    "print(\"Nuevo array:\", nuevo_array)\n",
    "\n",
    "print(random.randint(0,3))"
   ]
  },
  {
   "cell_type": "code",
   "execution_count": 5,
   "metadata": {},
   "outputs": [
    {
     "name": "stdout",
     "output_type": "stream",
     "text": [
      "Lista original: [1, 2, 3, 4, 5, 6, 7, 8, 9, 10]\n",
      "Nueva lista con el 10% al azar: [2, 4, 7, 3, 1]\n"
     ]
    }
   ],
   "source": [
    "import random\n",
    "\n",
    "# Tu lista original\n",
    "lista_original = [1, 2, 3, 4, 5, 6, 7, 8, 9, 10]\n",
    "\n",
    "# Calcular el tamaño de la nueva lista (10% de la longitud original)\n",
    "tamanio_nueva_lista = int(len(lista_original) * 0.5)\n",
    "\n",
    "# Crear una nueva lista con el 10% de los elementos al azar\n",
    "nueva_lista = random.sample(lista_original, tamanio_nueva_lista)\n",
    "\n",
    "print(\"Lista original:\", lista_original)\n",
    "print(\"Nueva lista con el 10% al azar:\", nueva_lista)\n"
   ]
  },
  {
   "cell_type": "code",
   "execution_count": null,
   "metadata": {},
   "outputs": [],
   "source": []
  }
 ],
 "metadata": {
  "kernelspec": {
   "display_name": "Python 3",
   "language": "python",
   "name": "python3"
  },
  "language_info": {
   "codemirror_mode": {
    "name": "ipython",
    "version": 3
   },
   "file_extension": ".py",
   "mimetype": "text/x-python",
   "name": "python",
   "nbconvert_exporter": "python",
   "pygments_lexer": "ipython3",
   "version": "3.11.7"
  }
 },
 "nbformat": 4,
 "nbformat_minor": 2
}
