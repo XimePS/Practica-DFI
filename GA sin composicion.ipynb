{
 "cells": [
  {
   "cell_type": "markdown",
   "metadata": {},
   "source": [
    "# Último intento de GA\n"
   ]
  },
  {
   "cell_type": "markdown",
   "metadata": {},
   "source": [
    "### Importar las librerías necesarias\n",
    "\n",
    "*Import the necessary libraries*"
   ]
  },
  {
   "cell_type": "code",
   "execution_count": 107,
   "metadata": {},
   "outputs": [],
   "source": [
    "import numpy as np\n",
    "import random\n",
    "from sympy import symbols, parse_expr, lambdify, srepr, sympify\n",
    "import matplotlib.pyplot as plt\n",
    "import time\n",
    "x = symbols('x')\n",
    "\n",
    "import logging\n",
    "# Configuración básica del registro\n",
    "logging.basicConfig(level=logging.INFO)\n",
    "\n",
    "import warnings\n",
    "\n",
    "# Ignorar todas las advertencias de RuntimeWarning\n",
    "warnings.filterwarnings(\"ignore\", category=RuntimeWarning)"
   ]
  },
  {
   "cell_type": "markdown",
   "metadata": {},
   "source": [
    "### Se extraen los datos de el parámetro de Hubble que se ajustarán a una función por encontrar.\n",
    "\n",
    "*Hubble parameter data is extracted to be fitted to a function to find.*"
   ]
  },
  {
   "cell_type": "code",
   "execution_count": 108,
   "metadata": {},
   "outputs": [],
   "source": [
    "\n",
    "# Extracción de datos\n",
    "\n",
    "columna1 = []\n",
    "columna2 = []\n",
    "columna3 = []\n",
    "\n",
    "with open('c:/Users/ximen/Desktop/Practicas DFI/hub_data_3.txt', 'r') as archivo:\n",
    "    # Lee cada línea del archivo\n",
    "    for linea in archivo: #cada linea es una fila del texto\n",
    "        elementos = linea.split() # divide la línea en sus elementos utilizando espacios como delimitadores\n",
    "        #print(elementos)\n",
    "        columna1.append(elementos[0]) # Agrega cada elemento a su respectiva columna\n",
    "        columna2.append(elementos[1])\n",
    "        columna3.append(elementos[2])\n",
    "\n",
    "z = np.zeros(len(columna1))\n",
    "for i in range(len(columna1)):\n",
    "  z[i] = float(columna1[i])\n",
    "\n",
    "H = np.zeros(len(columna2))\n",
    "for i in range(len(columna2)):\n",
    "  H[i] = float(columna2[i])\n",
    "\n",
    "desv = np.zeros(len(columna3))\n",
    "for i in range(len(columna3)):\n",
    "  desv[i] = float(columna3[i])"
   ]
  },
  {
   "cell_type": "markdown",
   "metadata": {},
   "source": [
    "La clase Create_Individual crea un individuo con un numero de cromosomas específico tal que: \n",
    "\n",
    "1. Si se le entregan 5 cromosomas el individuo tendrá 6. \n",
    "2. El individuo será una lista del tipo: ['x', '+', '1'] donde cada string es un cromosoma.\n",
    "3. Los índices pares y el $0$ son expresiones. \n",
    "4. Los índices impares partiendo del $1$ son operaciones.\n",
    "5. Si se le entrega a Create_Individual un individuo ya creado desde antes, devuelve ese individuo. \n",
    "6. Cabe recalcar que en un inicio el individuo es del tipo Create_Individual, y el método obtain_expression() entrega la expresion como una lista de strings. \n",
    "\n",
    "The Create_Individual class creates an individual with a specific chromosome number such that:\n",
    "\n",
    "1. If 5 chromosomes are given, the individual will have 6.\n",
    "2. The individual will be a list of the type: ['x', '+', '1'] where each string is a chromosome.\n",
    "3. The even indices and $0$ are expressions.\n",
    "4. Odd indices starting from $1$ are operations.\n",
    "5. If an individual already created before is given to Create_Individual, it returns that individual.\n",
    "6. It should be remembered that initially the individual is of type Create_Individuals, and the obtain_expression() method delivers the expression as a list of strings."
   ]
  },
  {
   "cell_type": "code",
   "execution_count": 109,
   "metadata": {},
   "outputs": [],
   "source": [
    "class Create_Individual:\n",
    "    def __init__(self, params, expression = None):\n",
    "        if expression is None:\n",
    "            genes = [np.random.choice(params['genes']) for _ in range(0, params['number_of_genes'] + 1, 2)]\n",
    "            operations = [np.random.choice(params['operaciones']) for _ in range(1, params['number_of_genes'] + 1, 2)]\n",
    "            self.expression = [valor for par in zip(genes, operations) for valor in par] + [np.random.choice(params['genes'])] #se le suma un gen para que quede una funcion al final/No cambia el numero de cromosomas\n",
    "        else:\n",
    "            self.expression = [valor for valor in expression]\n",
    "\n",
    "    def obtain_expressions(self): #da los cromosomas del individuo\n",
    "        return self.expression"
   ]
  },
  {
   "cell_type": "markdown",
   "metadata": {},
   "source": [
    "La clase Create_Generation crea una población inicial, la cual pasa por los siguientes procesos: \n",
    "\n",
    "1. Se eligen los padres más aptos de la poblacion inicial\n",
    "2. Se combinan para generar cierta cantidad de hijos por cada uno\n",
    "3. Dentro de tales hijos, cierta cantidad se muta\n",
    "\n",
    "The Create_Generation class creates an initial population, which goes through the following processes:\n",
    "\n",
    "1. The fittest parents are chosen from the initial population\n",
    "2. They combine to generate a certain number of children for each one\n",
    "3. Within such children, a certain amount is mutated"
   ]
  },
  {
   "cell_type": "code",
   "execution_count": 110,
   "metadata": {},
   "outputs": [],
   "source": [
    "class Create_Generation:\n",
    "    def __init__(self, ind_parameters, pop_parameters, fitness_function, expression = None, z = x):\n",
    "        #Crea una poblacion inicial\n",
    "        self.size = pop_parameters['size'] # Tamaño poblacion\n",
    "        self.initial_poblation = ind_parameters['genes']\n",
    "        self.initial_operation = ind_parameters['operaciones']\n",
    "        self.mutation_rate = pop_parameters['mutation_rate']\n",
    "        self.selection_rate = pop_parameters['selection _rate']\n",
    "        self.fitness_function = fitness_function \n",
    "        self.x = symbols('x')\n",
    "        self.z = z\n",
    "\n",
    "        if expression == None:\n",
    "            self.individuals = [Create_Individual(ind_parameters)  for _ in range(self.size)]\n",
    "        else:\n",
    "            self.individuals = [Create_Individual(ind_parameters, expression = expression[i]) for i in range(len(expression))]\n",
    "\n",
    "    def child(self, parent, parent2, crossover_point):\n",
    "        kid = []\n",
    "        if len(parent) == 1 and len(parent2) == 1:\n",
    "            kid = parent\n",
    "        elif len(parent) == 1:\n",
    "            kid[:0] = parent\n",
    "            kid[1:] = parent2[1:]\n",
    "        elif len(parent2) == 1:\n",
    "            kid[:0] = parent2\n",
    "            kid[1:] = parent[1:]\n",
    "        else:                \n",
    "            kid[:crossover_point] = parent[:crossover_point]\n",
    "            kid[crossover_point:] = parent2[crossover_point:]\n",
    "        return kid\n",
    "\n",
    "    def funcion(self, individuo): # transforma a funcion lambify los individuos de la poblacion expresados como ['x', '**' '2'] por ejemplo\n",
    "        expresion_simbolica = sympify(' '.join(individuo.obtain_expressions()))\n",
    "        x = symbols('x')\n",
    "        funcion = lambdify(x, expresion_simbolica, 'numpy')\n",
    "        return funcion  \n",
    "\n",
    "    def get_parents(self, poblacion) -> np.array: # pares son expresiones e impares son operaciones\n",
    "        n_parents = int((self.selection_rate)/100 * len(poblacion))\n",
    "        parents = poblacion\n",
    "        parents_function = [self.funcion(expresion) for expresion in parents]\n",
    "        parents_evaluate = [funcion(self.z) for funcion in parents_function]\n",
    "        Chi = [self.fitness_function(function) for function in parents_evaluate]\n",
    "        Minor_Chi = min(Chi)\n",
    "        sorted_parents = [x for _, x in sorted(zip(Chi, parents), key=lambda pair: pair[0])]\n",
    "        selected_parents = sorted_parents[:n_parents]\n",
    "        non_selectec_parents = sorted_parents[n_parents:]\n",
    "        r1 = random.random()\n",
    "        r2 = random.random()\n",
    "        no_apto = random.choice(non_selectec_parents)\n",
    "        no_apto2 = random.choice(non_selectec_parents)\n",
    "        if r1>r2:\n",
    "            Selected_parents = selected_parents + [no_apto] + [no_apto2]\n",
    "        else:\n",
    "            Selected_parents = selected_parents\n",
    "        return Selected_parents, Minor_Chi\n",
    "    \n",
    "    def crossover(self, parents: np.array) -> np.array:\n",
    "        parents = [expresion.obtain_expressions() for expresion in parents]\n",
    "        offspring = []\n",
    "        for parent in parents:\n",
    "            crossover_point = random.choice(range(1, len(parents))) #se elige un numero entre 1 y el penultimo cromosoma para que siempre haya crossover\n",
    "            parent2 = random.choice(parents)\n",
    "            parent3 = random.choice(parents)\n",
    "            parent4 = random.choice(parents)\n",
    "            parent5 = random.choice(parents)\n",
    "            parent6 = random.choice(parents)\n",
    "            kid = self.child(parent, parent2, crossover_point)\n",
    "            kid2 = self.child(parent, parent3, crossover_point)\n",
    "            kid3 = self.child(parent, parent4, crossover_point)\n",
    "            kid4 = self.child(parent, parent5, crossover_point)\n",
    "            kid5 = self.child(parent, parent6, crossover_point)\n",
    "            offspring.append(kid)\n",
    "            offspring.append(kid2)\n",
    "            offspring.append(kid3)\n",
    "            offspring.append(kid4)\n",
    "            offspring.append(kid5)\n",
    "\n",
    "        return offspring\n",
    "    \n",
    "    def mutate(self, offspring_crossover) -> np.array: # contras: a veces se pude mutar el mismo individuo\n",
    "        num_mutations = int(len(offspring_crossover)*self.mutation_rate/100)\n",
    "        for num in range(num_mutations):\n",
    "            idx_mutation = random.choice(range(len(offspring_crossover))) # se elige individuo que se va a mutar\n",
    "            ind_mutate = offspring_crossover[idx_mutation]\n",
    "            g = random.choice(range(len(ind_mutate))) #numero de gen que se va a mutar\n",
    "            if g % 2 == 0 or g==0:\n",
    "                new_gen = random.choice(self.initial_poblation)\n",
    "                ind_mutate[g] = new_gen\n",
    "            else:\n",
    "                new_gen = random.choice(self.initial_operation)\n",
    "                ind_mutate[g] = new_gen\n",
    "        return offspring_crossover"
   ]
  },
  {
   "cell_type": "markdown",
   "metadata": {},
   "source": [
    "La clase Evolución itera sobre las generaciones requeridas hasta llegar a la última. Durante esta iteración se guardan los menores $\\chi^2$ de cada generación. Finalmente devuelve la última generación y los $\\chi^2$ antes guardados. \n",
    "\n",
    "The Evolution class iterates over the required generations until it reaches the last one. During this iteration the smallest $\\chi^2$ of each generation are saved. Finally it returns the last generation and the previously saved $\\chi^2$."
   ]
  },
  {
   "cell_type": "code",
   "execution_count": 112,
   "metadata": {},
   "outputs": [],
   "source": [
    "class Evolution:\n",
    "    def __init__(self, gen_parameter, ind_parameters, pop_params, fitness_function,  z): #gen_parameter = {'selection_rate' : 20, 'mutation_rate' : 10, 'num_generations': 100}\n",
    "        self.selection_rate = gen_parameter['selection_rate']\n",
    "        self.mutation_rate = gen_parameter['mutation_rate']\n",
    "        self.num_generations = gen_parameter['num_generations']\n",
    "        self.fitness_function = fitness_function\n",
    "        self.ind_parameters = ind_parameters\n",
    "        self.pop_params = pop_params\n",
    "        self.z = z\n",
    "\n",
    "    def Iteracion(self):\n",
    "        inicio_tiempo = time.time()\n",
    "        Generations = []\n",
    "        Chi = []\n",
    "        for n in range(self.num_generations):\n",
    "            logging.info(f'Número de la generación: {n}')\n",
    "            if n == 0: \n",
    "                A = Create_Generation(self.ind_parameters, self.pop_params, self.fitness_function, z = self.z)\n",
    "                initial_poblation = A.individuals\n",
    "                parents, minor_chi = A.get_parents(initial_poblation)\n",
    "                Chi.append(minor_chi)\n",
    "                crossover = A.crossover(parents)\n",
    "                mutation = A.mutate(crossover)\n",
    "                Generations.append(mutation)\n",
    "            else:\n",
    "                A = Create_Generation(self.ind_parameters, self.pop_params, self.fitness_function, expression = Generations[n-1], z = self.z)\n",
    "                poblation = A.individuals\n",
    "                parents, minor_chi = A.get_parents(poblation)\n",
    "                Chi.append(minor_chi)\n",
    "                crossover = A.crossover(parents)\n",
    "                mutation = A.mutate(crossover)\n",
    "                Generations.append(mutation)\n",
    "\n",
    "        tiempo_transcurrido = time.time() - inicio_tiempo\n",
    "        logging.info(f\"La evolución tomó {tiempo_transcurrido} segundos en ejecutarse.\")\n",
    "        return Generations[-1], Chi\n",
    "    "
   ]
  },
  {
   "cell_type": "markdown",
   "metadata": {},
   "source": [
    "### Prueba del algoritmo\n",
    "\n",
    "*Algorithm test*"
   ]
  },
  {
   "cell_type": "code",
   "execution_count": 123,
   "metadata": {},
   "outputs": [
    {
     "name": "stderr",
     "output_type": "stream",
     "text": [
      "INFO:root:Número de la generación: 0\n"
     ]
    },
    {
     "name": "stdout",
     "output_type": "stream",
     "text": [
      "['x**x', '(x+1)', '2', '0.9545528243914415', '0.9557755689937213', '0.42536011859371736']\n"
     ]
    },
    {
     "name": "stderr",
     "output_type": "stream",
     "text": [
      "INFO:root:Número de la generación: 1\n",
      "INFO:root:Número de la generación: 2\n",
      "INFO:root:Número de la generación: 3\n",
      "INFO:root:Número de la generación: 4\n",
      "INFO:root:Número de la generación: 5\n",
      "INFO:root:Número de la generación: 6\n",
      "INFO:root:Número de la generación: 7\n",
      "INFO:root:Número de la generación: 8\n",
      "INFO:root:Número de la generación: 9\n",
      "INFO:root:Número de la generación: 10\n",
      "INFO:root:Número de la generación: 11\n",
      "INFO:root:Número de la generación: 12\n",
      "INFO:root:Número de la generación: 13\n",
      "INFO:root:Número de la generación: 14\n",
      "INFO:root:Número de la generación: 15\n",
      "INFO:root:Número de la generación: 16\n",
      "INFO:root:Número de la generación: 17\n",
      "INFO:root:Número de la generación: 18\n",
      "INFO:root:Número de la generación: 19\n",
      "INFO:root:Número de la generación: 20\n",
      "INFO:root:Número de la generación: 21\n",
      "INFO:root:Número de la generación: 22\n",
      "INFO:root:Número de la generación: 23\n",
      "INFO:root:Número de la generación: 24\n",
      "INFO:root:Número de la generación: 25\n",
      "INFO:root:Número de la generación: 26\n",
      "INFO:root:Número de la generación: 27\n",
      "INFO:root:Número de la generación: 28\n",
      "INFO:root:Número de la generación: 29\n",
      "INFO:root:Número de la generación: 30\n",
      "INFO:root:Número de la generación: 31\n",
      "INFO:root:Número de la generación: 32\n",
      "INFO:root:Número de la generación: 33\n",
      "INFO:root:Número de la generación: 34\n",
      "INFO:root:Número de la generación: 35\n",
      "INFO:root:Número de la generación: 36\n",
      "INFO:root:Número de la generación: 37\n",
      "INFO:root:Número de la generación: 38\n",
      "INFO:root:Número de la generación: 39\n",
      "INFO:root:Número de la generación: 40\n",
      "INFO:root:Número de la generación: 41\n",
      "INFO:root:Número de la generación: 42\n",
      "INFO:root:Número de la generación: 43\n",
      "INFO:root:Número de la generación: 44\n",
      "INFO:root:Número de la generación: 45\n",
      "INFO:root:Número de la generación: 46\n",
      "INFO:root:Número de la generación: 47\n",
      "INFO:root:Número de la generación: 48\n",
      "INFO:root:Número de la generación: 49\n",
      "INFO:root:La evolución tomó 55.50000357627869 segundos en ejecutarse.\n"
     ]
    }
   ],
   "source": [
    "# Se crean los genes iniciales\n",
    "\n",
    "Genes = ['x**x', '(x+1)', '2']\n",
    "\n",
    "num_elementos_aleatorios = 3\n",
    "\n",
    "# Agregar números aleatorios entre 0 y n en forma de cadena. n=1 por default\n",
    "for _ in range(num_elementos_aleatorios):\n",
    "    numero_aleatorio = str(random.uniform(0, 1))\n",
    "    Genes.append(numero_aleatorio)\n",
    "\n",
    "# Imprime la lista resultante\n",
    "print(Genes)\n",
    "\n",
    "# Se entregan los diccionarios que se darán a la clase\n",
    "\n",
    "pop_params = {'size': 100,'selection _rate': 20, 'mutation_rate' : 10}\n",
    "ind_parameters = {'genes': Genes, 'operaciones': ['+', '-', '*', '/'], 'number_of_genes': 10}\n",
    "\n",
    "def Chi(*x): \n",
    "    return np.sum(((H - x)/desv)**2)\n",
    "\n",
    "gen_parameter = {'selection_rate' : 20, 'mutation_rate' : 10, 'num_generations' : 50}\n",
    "\n",
    "Test1 = Evolution(gen_parameter, ind_parameters, pop_params, Chi, z)\n",
    "\n",
    "Results, Chi_square = Test1.Iteracion()"
   ]
  },
  {
   "cell_type": "markdown",
   "metadata": {},
   "source": [
    "## Encontrar Best Fit a partir del algoritmo anterior\n",
    "\n",
    "*Finding Best Fit from the above algorithm*"
   ]
  },
  {
   "cell_type": "code",
   "execution_count": 124,
   "metadata": {},
   "outputs": [
    {
     "name": "stdout",
     "output_type": "stream",
     "text": [
      "El Chi menor fue: 142.7981637697038\n"
     ]
    },
    {
     "data": {
      "image/png": "[encoded data removed]",
      "text/plain": [
       "<Figure size 640x480 with 1 Axes>"
      ]
     },
     "metadata": {},
     "output_type": "display_data"
    }
   ],
   "source": [
    "# Evaluacion de Chi\n",
    "\n",
    "minor_chi = Chi_square\n",
    "print('El Chi menor fue: ' + str(min(minor_chi)))\n",
    "num_generaciones = np.arange(0, len(minor_chi), 1)\n",
    "plt.plot(num_generaciones, minor_chi)\n",
    "plt.xlabel('Número de generaciones')\n",
    "plt.ylabel('Valor de $\\chi^2$')\n",
    "plt.title('Valor de $\\chi^2$ a lo largo de las generaciones')\n",
    "plt.show()"
   ]
  },
  {
   "cell_type": "code",
   "execution_count": 125,
   "metadata": {},
   "outputs": [
    {
     "name": "stdout",
     "output_type": "stream",
     "text": [
      "2*2*(x + 1)/(0.42536011859371736*0.42536011859371736*0.42536011859371736)\n",
      "<function _lambdifygenerated at 0x0000025381B26DE0>\n",
      "menor chi : 142.798163769704\n"
     ]
    }
   ],
   "source": [
    "def funcion(individuo): # transforma a una expresion los individuos de la forma ['x', '+', '1']\n",
    "    x = symbols('x')\n",
    "    if type(individuo) == Create_Individual:\n",
    "        individuo = individuo.obtain_expressions()\n",
    "    else:\n",
    "        individuo = individuo\n",
    "    expresion_str = ' '.join(individuo)\n",
    "    return parse_expr(expresion_str, evaluate=False)\n",
    "    \n",
    "def seleccionar_funcion_optima(funciones, H, z, desv):\n",
    "    # Función que calcula chi para una función dada\n",
    "    def calcular_chi(expresion_funcion):\n",
    "        funcion = expresion_funcion[1]  # Obtener la función lambdify\n",
    "        return np.sum(((H - funcion(z)) / desv)**2)\n",
    "\n",
    "    # Calcular chi para todas las funciones en la lista\n",
    "    chi_valores = [calcular_chi(expresion_funcion) for expresion_funcion in funciones]\n",
    "\n",
    "    # Encontrar el índice de la función con el menor valor de chi\n",
    "    indice_funcion_optima = np.argmin(chi_valores)\n",
    "\n",
    "    # Devolver la tupla que contiene la expresión simbólica y la función óptima\n",
    "    expresion_funcion_optima = funciones[indice_funcion_optima]\n",
    "    chi_minimo = chi_valores[indice_funcion_optima]\n",
    "\n",
    "    return expresion_funcion_optima, chi_minimo\n",
    "\n",
    "Funciones_expresion = [funcion(resultado) for resultado in Results]\n",
    "\n",
    "Funciones = [(expresion, lambdify(x, expresion, 'numpy')) for expresion in Funciones_expresion]\n",
    "\n",
    "resultado_optimo, chi_minimo = seleccionar_funcion_optima(Funciones, H, z, desv)\n",
    "\n",
    "# `resultado_optimo` es una tupla que contiene la expresión simbólica y la función lambdify óptima\n",
    "expresion_optima = resultado_optimo[0]\n",
    "print(expresion_optima)\n",
    "funcion_optima_lambdify = resultado_optimo[1]\n",
    "print(funcion_optima_lambdify)\n",
    "print('menor chi : ' + str(chi_minimo))"
   ]
  },
  {
   "cell_type": "markdown",
   "metadata": {},
   "source": [
    "### Listado de Best Fit encontradas\n",
    "\n",
    "*List of Best Fit found*"
   ]
  },
  {
   "cell_type": "code",
   "execution_count": 126,
   "metadata": {},
   "outputs": [],
   "source": [
    "def f1(x): \n",
    "    '''\n",
    "    Se encontró después de 200 generaciones\n",
    "    Su chi^2 = 27.57 aproximadamente\n",
    "    Los genes iniciales fueron: ['x**x', '(x+1)', '2', '0.5210552124397201', '0.7004391872376786', '0.23680171133428474']\n",
    "    Tasa de seleccion: 20%\n",
    "    Tasa de mutacion: 10%\n",
    "    Tamaño de la poblacion inicial (se conserva la mayoría de las generaciones): 100\n",
    "    Duración: 2 min aprox\n",
    "    '''\n",
    "    return  2*2*(x + 1)/(0.5210552124397201*0.5210552124397201*0.23680171133428474)\n",
    "\n",
    "def f2(x):\n",
    "    '''\n",
    "    Se encontró después de 100 generaciones\n",
    "    Su chi^2 = 22.26 aproximadamente\n",
    "    Los genes iniciales fueron: ['x**x', '(x+1)', '0.9758191130231901', '0.6344469961187371', '0.1299935298910112']\n",
    "    Tasa de seleccion: 20%\n",
    "    Tasa de mutacion: 10%\n",
    "    Tamaño de la poblacion inicial (se conserva la mayoría de las generaciones): 100\n",
    "    Duración: 32 s aprox\n",
    "    '''\n",
    "    return  x**x*(x + 1) + (x + 1)/(0.1299935298910112*0.1299935298910112*0.9758191130231901)\n",
    "\n",
    "def f3(x):\n",
    "    '''\n",
    "    Se encontró después de 200 generaciones\n",
    "    Su chi^2 = 49.75 aproximadamente\n",
    "    Los genes iniciales fueron: ['x**x', '(x+1)', '2', '0.34680106762043883', '0.693941429722882', '0.9951483011501365']\n",
    "    Tasa de seleccion: 20%\n",
    "    Tasa de mutacion: 10%\n",
    "    Tamaño de la poblacion inicial (se conserva la mayoría de las generaciones): 100\n",
    "    Duración: 3 min aprox\n",
    "    '''\n",
    "    return  2*(x + 1)*2*2/(0.34680106762043883*0.34680106762043883)\n",
    "\n",
    "def f4(x):\n",
    "    '''\n",
    "    Se encontró después de 100 generaciones\n",
    "    Su chi^2 = 36.83 aproximadamente\n",
    "    Los genes iniciales fueron: ['x**x', '(x+1)', '2', '0.6438174998876441', '0.3743567014667769', '0.4197474905892703']\n",
    "    Tasa de seleccion: 20%\n",
    "    Tasa de mutacion: 10%\n",
    "    Tamaño de la poblacion inicial (se conserva la mayoría de las generaciones): 100\n",
    "    Duración: 3 min aprox\n",
    "    '''\n",
    "    return 2*(x + 1)/(0.3743567014667769*0.3743567014667769*0.3743567014667769*0.6438174998876441)"
   ]
  },
  {
   "cell_type": "code",
   "execution_count": 127,
   "metadata": {},
   "outputs": [],
   "source": [
    "def H_bm(z, Omega_r, Omega_m, Omega_lambda, omega_DE, Omega_0): \n",
    "    return H_0*np.sqrt((Omega_r*(1+z)**(3*(1 + 1/3)) + Omega_m*(1+z)**3 + Omega_lambda*(1+z)**(3*(1+omega_DE)) + (1-Omega_0)*(1+z)**2))\n",
    "\n",
    "H_0 = 70\n",
    "O_r = 8.4*10**(-5)\n",
    "O_m = 0.3\n",
    "O_lambda = 0.7 - 8.4*10**(-5)\n",
    "o_DE = -1\n",
    "O_0 = [0.5, 1, 1.5]\n",
    "\n",
    "# Se crea un arreglo de z para la función teórica\n",
    "z_bu = np.linspace(0, 2.5, 100)\n",
    "\n",
    "# hub_data_3.txt\n",
    "H_teorico_plano = H_bm(z_bu,O_r, O_m, O_lambda, o_DE, O_0[1])\n",
    "H_teorico_cerrado = H_bm(z_bu,O_r, O_m, O_lambda, o_DE, O_0[2])\n",
    "H_teorico_abierto = H_bm(z_bu,O_r, O_m, O_lambda, o_DE, O_0[0])"
   ]
  },
  {
   "cell_type": "code",
   "execution_count": 128,
   "metadata": {},
   "outputs": [
    {
     "data": {
      "text/plain": [
       "<matplotlib.legend.Legend at 0x253f9861710>"
      ]
     },
     "execution_count": 128,
     "metadata": {},
     "output_type": "execute_result"
    },
    {
     "data": {
      "image/png": "[encoded data removed]",
      "text/plain": [
       "<Figure size 640x480 with 1 Axes>"
      ]
     },
     "metadata": {},
     "output_type": "display_data"
    }
   ],
   "source": [
    "plt.plot(z_bu, H_teorico_cerrado, label = 'Función teórica para $K = 1$ (cerrado)')\n",
    "plt.plot(z_bu, H_teorico_plano, label = 'Función teórica para $K = 0$ (plano)')\n",
    "plt.plot(z_bu, H_teorico_abierto, label = 'Función teórica para $K = -1$ (abierto)')\n",
    "plt.plot(z, H, '.')\n",
    "plt.plot(z, funcion_optima_lambdify(z), label= 'Funcion Encontrada')\n",
    "plt.legend()\n"
   ]
  },
  {
   "cell_type": "markdown",
   "metadata": {},
   "source": [
    "## Pruebas con otros datos"
   ]
  },
  {
   "cell_type": "code",
   "execution_count": null,
   "metadata": {},
   "outputs": [],
   "source": [
    "# Extracción de datos\n",
    "\n",
    "columna2 = [] #z_cmb\n",
    "columna4 = [] #m_b\n",
    "columna5 = [] #desv_m\n",
    "\n",
    "with open('c:/Users/ximen/Desktop/Practicas DFI/lcparam_full_long.txt', 'r') as archivo:\n",
    "    for linea in archivo:\n",
    "        elementos = linea.split()\n",
    "\n",
    "        columna2.append(elementos[1])\n",
    "        columna4.append(elementos[4])\n",
    "        columna5.append(elementos[5])\n",
    "\n",
    "#print(\"z_cmb:\", columna2)\n",
    "#print(\"m_b:\", columna4)\n",
    "#print('desv_m:', columna5)\n",
    "\n",
    "z_cmb = np.zeros(len(columna2))\n",
    "for i in range(1,len(columna2)): #ya que el elemento 0 es un string\n",
    "  z_cmb[i] = float(columna2[i])\n",
    "\n",
    "m_b = np.zeros(len(columna4))\n",
    "for i in range(1,len(columna4)):\n",
    "  m_b[i] = float(columna4[i])\n",
    "\n",
    "desv_m = np.zeros(len(columna5))\n",
    "for i in range(1,len(columna5)):\n",
    "  desv_m[i] = float(columna5[i])\n",
    "\n",
    "# Se quitan los elementos 0 de cada lista porque son = 0 \n",
    "z_cmb = z_cmb[1:]\n",
    "m_b = m_b[1:]\n",
    "desv_m = desv_m[1:]\n",
    "\n",
    "# Se ordenan elementos\n",
    "\n",
    "indices_ordenados = np.argsort(z_cmb)\n",
    "\n",
    "z_cmb_ordenado = z_cmb[indices_ordenados]\n",
    "m_b_ordenado = m_b[indices_ordenados]\n",
    "desv_m_ordenado = desv_m[indices_ordenados]"
   ]
  },
  {
   "cell_type": "code",
   "execution_count": 119,
   "metadata": {},
   "outputs": [
    {
     "name": "stderr",
     "output_type": "stream",
     "text": [
      "INFO:root:Número de la generación: 0\n"
     ]
    },
    {
     "name": "stdout",
     "output_type": "stream",
     "text": [
      "['x**x', '(x+1)', '2', '0.7038186623344017', '0.29431790009206504', '0.41468504732489764']\n"
     ]
    },
    {
     "name": "stderr",
     "output_type": "stream",
     "text": [
      "INFO:root:Número de la generación: 1\n",
      "INFO:root:Número de la generación: 2\n",
      "INFO:root:Número de la generación: 3\n",
      "INFO:root:Número de la generación: 4\n",
      "INFO:root:Número de la generación: 5\n",
      "INFO:root:Número de la generación: 6\n",
      "INFO:root:Número de la generación: 7\n",
      "INFO:root:Número de la generación: 8\n",
      "INFO:root:Número de la generación: 9\n",
      "INFO:root:Número de la generación: 10\n",
      "INFO:root:Número de la generación: 11\n",
      "INFO:root:Número de la generación: 12\n",
      "INFO:root:Número de la generación: 13\n",
      "INFO:root:Número de la generación: 14\n",
      "INFO:root:Número de la generación: 15\n",
      "INFO:root:Número de la generación: 16\n",
      "INFO:root:Número de la generación: 17\n",
      "INFO:root:Número de la generación: 18\n",
      "INFO:root:Número de la generación: 19\n",
      "INFO:root:Número de la generación: 20\n",
      "INFO:root:Número de la generación: 21\n",
      "INFO:root:Número de la generación: 22\n",
      "INFO:root:Número de la generación: 23\n",
      "INFO:root:Número de la generación: 24\n",
      "INFO:root:Número de la generación: 25\n",
      "INFO:root:Número de la generación: 26\n",
      "INFO:root:Número de la generación: 27\n",
      "INFO:root:Número de la generación: 28\n",
      "INFO:root:Número de la generación: 29\n",
      "INFO:root:Número de la generación: 30\n",
      "INFO:root:Número de la generación: 31\n",
      "INFO:root:Número de la generación: 32\n",
      "INFO:root:Número de la generación: 33\n",
      "INFO:root:Número de la generación: 34\n",
      "INFO:root:Número de la generación: 35\n",
      "INFO:root:Número de la generación: 36\n",
      "INFO:root:Número de la generación: 37\n",
      "INFO:root:Número de la generación: 38\n",
      "INFO:root:Número de la generación: 39\n",
      "INFO:root:Número de la generación: 40\n",
      "INFO:root:Número de la generación: 41\n",
      "INFO:root:Número de la generación: 42\n",
      "INFO:root:Número de la generación: 43\n",
      "INFO:root:Número de la generación: 44\n",
      "INFO:root:Número de la generación: 45\n",
      "INFO:root:Número de la generación: 46\n",
      "INFO:root:Número de la generación: 47\n",
      "INFO:root:Número de la generación: 48\n",
      "INFO:root:Número de la generación: 49\n",
      "INFO:root:Número de la generación: 50\n",
      "INFO:root:Número de la generación: 51\n",
      "INFO:root:Número de la generación: 52\n",
      "INFO:root:Número de la generación: 53\n",
      "INFO:root:Número de la generación: 54\n",
      "INFO:root:Número de la generación: 55\n",
      "INFO:root:Número de la generación: 56\n",
      "INFO:root:Número de la generación: 57\n",
      "INFO:root:Número de la generación: 58\n",
      "INFO:root:Número de la generación: 59\n",
      "INFO:root:Número de la generación: 60\n",
      "INFO:root:Número de la generación: 61\n",
      "INFO:root:Número de la generación: 62\n",
      "INFO:root:Número de la generación: 63\n",
      "INFO:root:Número de la generación: 64\n",
      "INFO:root:Número de la generación: 65\n",
      "INFO:root:Número de la generación: 66\n",
      "INFO:root:Número de la generación: 67\n",
      "INFO:root:Número de la generación: 68\n",
      "INFO:root:Número de la generación: 69\n",
      "INFO:root:Número de la generación: 70\n",
      "INFO:root:Número de la generación: 71\n",
      "INFO:root:Número de la generación: 72\n",
      "INFO:root:Número de la generación: 73\n",
      "INFO:root:Número de la generación: 74\n",
      "INFO:root:Número de la generación: 75\n",
      "INFO:root:Número de la generación: 76\n",
      "INFO:root:Número de la generación: 77\n",
      "INFO:root:Número de la generación: 78\n",
      "INFO:root:Número de la generación: 79\n",
      "INFO:root:Número de la generación: 80\n",
      "INFO:root:Número de la generación: 81\n",
      "INFO:root:Número de la generación: 82\n",
      "INFO:root:Número de la generación: 83\n",
      "INFO:root:Número de la generación: 84\n",
      "INFO:root:Número de la generación: 85\n",
      "INFO:root:Número de la generación: 86\n",
      "INFO:root:Número de la generación: 87\n",
      "INFO:root:Número de la generación: 88\n",
      "INFO:root:Número de la generación: 89\n",
      "INFO:root:Número de la generación: 90\n",
      "INFO:root:Número de la generación: 91\n",
      "INFO:root:Número de la generación: 92\n",
      "INFO:root:Número de la generación: 93\n",
      "INFO:root:Número de la generación: 94\n",
      "INFO:root:Número de la generación: 95\n",
      "INFO:root:Número de la generación: 96\n",
      "INFO:root:Número de la generación: 97\n",
      "INFO:root:Número de la generación: 98\n",
      "INFO:root:Número de la generación: 99\n",
      "INFO:root:La evolución tomó 185.93131136894226 segundos en ejecutarse.\n"
     ]
    }
   ],
   "source": [
    "# Se crean los genes iniciales\n",
    "\n",
    "Genes = ['x**x', '(x+1)', '2']\n",
    "\n",
    "num_elementos_aleatorios = 3\n",
    "\n",
    "# Agregar números aleatorios entre 0 y n en forma de cadena. n=1 por default\n",
    "for _ in range(num_elementos_aleatorios):\n",
    "    numero_aleatorio = str(random.uniform(0, 1))\n",
    "    Genes.append(numero_aleatorio)\n",
    "\n",
    "# Imprime la lista resultante\n",
    "print(Genes)\n",
    "\n",
    "# Se entregan los diccionarios que se darán a la clase\n",
    "\n",
    "pop_params = {'size': 100,'selection _rate': 20, 'mutation_rate' : 10}\n",
    "ind_parameters = {'genes': Genes, 'operaciones': ['+', '-', '*', '/'], 'number_of_genes': 10}\n",
    "\n",
    "def Chi(*x): \n",
    "    return np.sum(((m_b_ordenado - x)/desv_m_ordenado)**2)\n",
    "\n",
    "gen_parameter = {'selection_rate' : 20, 'mutation_rate' : 10, 'num_generations' : 100}\n",
    "\n",
    "Test2 = Evolution(gen_parameter, ind_parameters, pop_params, Chi, z_cmb_ordenado)\n",
    "\n",
    "Results, Chi_square = Test2.Iteracion()"
   ]
  },
  {
   "cell_type": "code",
   "execution_count": 120,
   "metadata": {},
   "outputs": [
    {
     "name": "stdout",
     "output_type": "stream",
     "text": [
      "El Chi menor fue: 208287.8181419022\n"
     ]
    },
    {
     "data": {
      "image/png": "[encoded data removed]",
      "text/plain": [
       "<Figure size 640x480 with 1 Axes>"
      ]
     },
     "metadata": {},
     "output_type": "display_data"
    }
   ],
   "source": [
    "# Evaluacion de Chi\n",
    "\n",
    "minor_chi = Chi_square\n",
    "print('El Chi menor fue: ' + str(min(minor_chi)))\n",
    "num_generaciones = np.arange(0, len(minor_chi), 1)\n",
    "plt.plot(num_generaciones, minor_chi)\n",
    "plt.xlabel('Número de generaciones')\n",
    "plt.ylabel('Valor de $\\chi^2$')\n",
    "plt.title('Valor de $\\chi^2$ a lo largo de las generaciones')\n",
    "plt.show()"
   ]
  },
  {
   "cell_type": "code",
   "execution_count": 121,
   "metadata": {},
   "outputs": [
    {
     "name": "stdout",
     "output_type": "stream",
     "text": [
      "(x + 1)*2*2/0.29431790009206504 + 0.7038186623344017/0.29431790009206504\n",
      "<function _lambdifygenerated at 0x00000253FF4523E0>\n",
      "menor chi : 208287.81814190227\n"
     ]
    }
   ],
   "source": [
    "def funcion(individuo): # transforma a una expresion los individuos de la forma ['x', '+', '1']\n",
    "    x = symbols('x')\n",
    "    if type(individuo) == Create_Individual:\n",
    "        individuo = individuo.obtain_expressions()\n",
    "    else:\n",
    "        individuo = individuo\n",
    "    expresion_str = ' '.join(individuo)\n",
    "    return parse_expr(expresion_str, evaluate=False)\n",
    "    \n",
    "def seleccionar_funcion_optima(funciones, H, z, desv):\n",
    "    # Función que calcula chi para una función dada\n",
    "    def calcular_chi(expresion_funcion):\n",
    "        funcion = expresion_funcion[1]  # Obtener la función lambdify\n",
    "        return np.sum(((H - funcion(z)) / desv)**2)\n",
    "\n",
    "    # Calcular chi para todas las funciones en la lista\n",
    "    chi_valores = [calcular_chi(expresion_funcion) for expresion_funcion in funciones]\n",
    "\n",
    "    # Encontrar el índice de la función con el menor valor de chi\n",
    "    indice_funcion_optima = np.argmin(chi_valores)\n",
    "\n",
    "    # Devolver la tupla que contiene la expresión simbólica y la función óptima\n",
    "    expresion_funcion_optima = funciones[indice_funcion_optima]\n",
    "    chi_minimo = chi_valores[indice_funcion_optima]\n",
    "\n",
    "    return expresion_funcion_optima, chi_minimo\n",
    "\n",
    "Funciones_expresion = [funcion(resultado) for resultado in Results]\n",
    "\n",
    "Funciones = [(expresion, lambdify(x, expresion, 'numpy')) for expresion in Funciones_expresion]\n",
    "\n",
    "resultado_optimo, chi_minimo = seleccionar_funcion_optima(Funciones, m_b_ordenado, z_cmb_ordenado, desv_m_ordenado)\n",
    "\n",
    "# `resultado_optimo` es una tupla que contiene la expresión simbólica y la función lambdify óptima\n",
    "expresion_optima = resultado_optimo[0]\n",
    "print(expresion_optima)\n",
    "funcion_optima_lambdify = resultado_optimo[1]\n",
    "print(funcion_optima_lambdify)\n",
    "print('menor chi : ' + str(chi_minimo))"
   ]
  },
  {
   "cell_type": "code",
   "execution_count": 122,
   "metadata": {},
   "outputs": [
    {
     "data": {
      "text/plain": [
       "[<matplotlib.lines.Line2D at 0x2538baadf90>]"
      ]
     },
     "execution_count": 122,
     "metadata": {},
     "output_type": "execute_result"
    },
    {
     "data": {
      "image/png": "[encoded data removed]",
      "text/plain": [
       "<Figure size 640x480 with 1 Axes>"
      ]
     },
     "metadata": {},
     "output_type": "display_data"
    }
   ],
   "source": [
    "plt.plot(z_cmb_ordenado, m_b_ordenado, '.', label = 'Datos')\n",
    "plt.plot(z_cmb_ordenado, funcion_optima_lambdify(z_cmb_ordenado), label = 'Función encontrada')"
   ]
  },
  {
   "cell_type": "markdown",
   "metadata": {},
   "source": [
    "## Podría funcionar: hacerlo con funciones numpy"
   ]
  },
  {
   "cell_type": "markdown",
   "metadata": {},
   "source": []
  }
 ],
 "metadata": {
  "kernelspec": {
   "display_name": "Python 3",
   "language": "python",
   "name": "python3"
  },
  "language_info": {
   "codemirror_mode": {
    "name": "ipython",
    "version": 3
   },
   "file_extension": ".py",
   "mimetype": "text/x-python",
   "name": "python",
   "nbconvert_exporter": "python",
   "pygments_lexer": "ipython3",
   "version": "3.11.7"
  }
 },
 "nbformat": 4,
 "nbformat_minor": 2
}
